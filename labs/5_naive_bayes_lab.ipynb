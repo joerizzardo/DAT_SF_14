{
 "cells": [
  {
   "cell_type": "markdown",
   "metadata": {},
   "source": [
    "\n",
    "Naive Bayes Lab - SMS Spam Classification\n",
    "===============\n",
    "orignally developed by Ankit Jain\n",
    "\n",
    "CLASS: Naive Bayes SMS spam classifier using sklearn\n",
    "\n",
    "Data source: https://archive.ics.uci.edu/ml/datasets/SMS+Spam+Collection"
   ]
  },
  {
   "cell_type": "code",
   "execution_count": 34,
   "metadata": {
    "collapsed": false
   },
   "outputs": [],
   "source": [
    "# Importing Packages \n",
    "import numpy as np\n",
    "import pandas as pd"
   ]
  },
  {
   "cell_type": "code",
   "execution_count": 35,
   "metadata": {
    "collapsed": false
   },
   "outputs": [],
   "source": [
    "## READING IN THE DATA\n",
    "df = pd.read_csv(\"data/sms.csv\")"
   ]
  },
  {
   "cell_type": "code",
   "execution_count": 36,
   "metadata": {
    "collapsed": false
   },
   "outputs": [
    {
     "data": {
      "text/html": [
       "<div style=\"max-height:1000px;max-width:1500px;overflow:auto;\">\n",
       "<table border=\"1\" class=\"dataframe\">\n",
       "  <thead>\n",
       "    <tr style=\"text-align: right;\">\n",
       "      <th></th>\n",
       "      <th>label</th>\n",
       "      <th>msg</th>\n",
       "    </tr>\n",
       "  </thead>\n",
       "  <tbody>\n",
       "    <tr>\n",
       "      <th>0</th>\n",
       "      <td>  ham</td>\n",
       "      <td> Go until jurong point, crazy.. Available only ...</td>\n",
       "    </tr>\n",
       "    <tr>\n",
       "      <th>1</th>\n",
       "      <td>  ham</td>\n",
       "      <td>                     Ok lar... Joking wif u oni...</td>\n",
       "    </tr>\n",
       "    <tr>\n",
       "      <th>2</th>\n",
       "      <td> spam</td>\n",
       "      <td> Free entry in 2 a wkly comp to win FA Cup fina...</td>\n",
       "    </tr>\n",
       "    <tr>\n",
       "      <th>3</th>\n",
       "      <td>  ham</td>\n",
       "      <td> U dun say so early hor... U c already then say...</td>\n",
       "    </tr>\n",
       "    <tr>\n",
       "      <th>4</th>\n",
       "      <td>  ham</td>\n",
       "      <td> Nah I don't think he goes to usf, he lives aro...</td>\n",
       "    </tr>\n",
       "    <tr>\n",
       "      <th>5</th>\n",
       "      <td> spam</td>\n",
       "      <td> FreeMsg Hey there darling it's been 3 week's n...</td>\n",
       "    </tr>\n",
       "    <tr>\n",
       "      <th>6</th>\n",
       "      <td>  ham</td>\n",
       "      <td> Even my brother is not like to speak with me. ...</td>\n",
       "    </tr>\n",
       "    <tr>\n",
       "      <th>7</th>\n",
       "      <td>  ham</td>\n",
       "      <td> As per your request 'Melle Melle (Oru Minnamin...</td>\n",
       "    </tr>\n",
       "    <tr>\n",
       "      <th>8</th>\n",
       "      <td> spam</td>\n",
       "      <td> WINNER!! As a valued network customer you have...</td>\n",
       "    </tr>\n",
       "    <tr>\n",
       "      <th>9</th>\n",
       "      <td> spam</td>\n",
       "      <td> Had your mobile 11 months or more? U R entitle...</td>\n",
       "    </tr>\n",
       "  </tbody>\n",
       "</table>\n",
       "</div>"
      ],
      "text/plain": [
       "  label                                                msg\n",
       "0   ham  Go until jurong point, crazy.. Available only ...\n",
       "1   ham                      Ok lar... Joking wif u oni...\n",
       "2  spam  Free entry in 2 a wkly comp to win FA Cup fina...\n",
       "3   ham  U dun say so early hor... U c already then say...\n",
       "4   ham  Nah I don't think he goes to usf, he lives aro...\n",
       "5  spam  FreeMsg Hey there darling it's been 3 week's n...\n",
       "6   ham  Even my brother is not like to speak with me. ...\n",
       "7   ham  As per your request 'Melle Melle (Oru Minnamin...\n",
       "8  spam  WINNER!! As a valued network customer you have...\n",
       "9  spam  Had your mobile 11 months or more? U R entitle..."
      ]
     },
     "execution_count": 36,
     "metadata": {},
     "output_type": "execute_result"
    }
   ],
   "source": [
    "# examine the data\n",
    "df.head(10)"
   ]
  },
  {
   "cell_type": "code",
   "execution_count": 37,
   "metadata": {
    "collapsed": false
   },
   "outputs": [
    {
     "data": {
      "text/html": [
       "<div style=\"max-height:1000px;max-width:1500px;overflow:auto;\">\n",
       "<table border=\"1\" class=\"dataframe\">\n",
       "  <thead>\n",
       "    <tr style=\"text-align: right;\">\n",
       "      <th></th>\n",
       "      <th>label</th>\n",
       "      <th>msg</th>\n",
       "    </tr>\n",
       "  </thead>\n",
       "  <tbody>\n",
       "    <tr>\n",
       "      <th>2 </th>\n",
       "      <td> spam</td>\n",
       "      <td> Free entry in 2 a wkly comp to win FA Cup fina...</td>\n",
       "    </tr>\n",
       "    <tr>\n",
       "      <th>5 </th>\n",
       "      <td> spam</td>\n",
       "      <td> FreeMsg Hey there darling it's been 3 week's n...</td>\n",
       "    </tr>\n",
       "    <tr>\n",
       "      <th>8 </th>\n",
       "      <td> spam</td>\n",
       "      <td> WINNER!! As a valued network customer you have...</td>\n",
       "    </tr>\n",
       "    <tr>\n",
       "      <th>9 </th>\n",
       "      <td> spam</td>\n",
       "      <td> Had your mobile 11 months or more? U R entitle...</td>\n",
       "    </tr>\n",
       "    <tr>\n",
       "      <th>11</th>\n",
       "      <td> spam</td>\n",
       "      <td> SIX chances to win CASH! From 100 to 20,000 po...</td>\n",
       "    </tr>\n",
       "    <tr>\n",
       "      <th>12</th>\n",
       "      <td> spam</td>\n",
       "      <td> URGENT! You have won a 1 week FREE membership ...</td>\n",
       "    </tr>\n",
       "    <tr>\n",
       "      <th>15</th>\n",
       "      <td> spam</td>\n",
       "      <td> XXXMobileMovieClub: To use your credit, click ...</td>\n",
       "    </tr>\n",
       "    <tr>\n",
       "      <th>19</th>\n",
       "      <td> spam</td>\n",
       "      <td> England v Macedonia - dont miss the goals/team...</td>\n",
       "    </tr>\n",
       "    <tr>\n",
       "      <th>34</th>\n",
       "      <td> spam</td>\n",
       "      <td> Thanks for your subscription to Ringtone UK yo...</td>\n",
       "    </tr>\n",
       "    <tr>\n",
       "      <th>42</th>\n",
       "      <td> spam</td>\n",
       "      <td> 07732584351 - Rodger Burns - MSG = We tried to...</td>\n",
       "    </tr>\n",
       "  </tbody>\n",
       "</table>\n",
       "</div>"
      ],
      "text/plain": [
       "   label                                                msg\n",
       "2   spam  Free entry in 2 a wkly comp to win FA Cup fina...\n",
       "5   spam  FreeMsg Hey there darling it's been 3 week's n...\n",
       "8   spam  WINNER!! As a valued network customer you have...\n",
       "9   spam  Had your mobile 11 months or more? U R entitle...\n",
       "11  spam  SIX chances to win CASH! From 100 to 20,000 po...\n",
       "12  spam  URGENT! You have won a 1 week FREE membership ...\n",
       "15  spam  XXXMobileMovieClub: To use your credit, click ...\n",
       "19  spam  England v Macedonia - dont miss the goals/team...\n",
       "34  spam  Thanks for your subscription to Ringtone UK yo...\n",
       "42  spam  07732584351 - Rodger Burns - MSG = We tried to..."
      ]
     },
     "execution_count": 37,
     "metadata": {},
     "output_type": "execute_result"
    }
   ],
   "source": [
    "df[df.label=='spam'].head(10)"
   ]
  },
  {
   "cell_type": "code",
   "execution_count": 38,
   "metadata": {
    "collapsed": false
   },
   "outputs": [
    {
     "data": {
      "text/plain": [
       "ham     4825\n",
       "spam     747\n",
       "dtype: int64"
      ]
     },
     "execution_count": 38,
     "metadata": {},
     "output_type": "execute_result"
    }
   ],
   "source": [
    "df.label.value_counts()"
   ]
  },
  {
   "cell_type": "code",
   "execution_count": 39,
   "metadata": {
    "collapsed": false
   },
   "outputs": [
    {
     "data": {
      "text/plain": [
       "count                       5572\n",
       "unique                      5169\n",
       "top       Sorry, I'll call later\n",
       "freq                          30\n",
       "Name: msg, dtype: object"
      ]
     },
     "execution_count": 39,
     "metadata": {},
     "output_type": "execute_result"
    }
   ],
   "source": [
    "df.msg.describe()"
   ]
  },
  {
   "cell_type": "code",
   "execution_count": 40,
   "metadata": {
    "collapsed": false
   },
   "outputs": [],
   "source": [
    "# Convert the label into a binary variable\n",
    "# Remember the map function we learned before?\n",
    "df['label'] = df.label.map({'ham': 0 , 'spam':1})"
   ]
  },
  {
   "cell_type": "code",
   "execution_count": 41,
   "metadata": {
    "collapsed": false
   },
   "outputs": [
    {
     "data": {
      "text/html": [
       "<div style=\"max-height:1000px;max-width:1500px;overflow:auto;\">\n",
       "<table border=\"1\" class=\"dataframe\">\n",
       "  <thead>\n",
       "    <tr style=\"text-align: right;\">\n",
       "      <th></th>\n",
       "      <th>label</th>\n",
       "      <th>msg</th>\n",
       "    </tr>\n",
       "  </thead>\n",
       "  <tbody>\n",
       "    <tr>\n",
       "      <th>0</th>\n",
       "      <td> 0</td>\n",
       "      <td> Go until jurong point, crazy.. Available only ...</td>\n",
       "    </tr>\n",
       "    <tr>\n",
       "      <th>1</th>\n",
       "      <td> 0</td>\n",
       "      <td>                     Ok lar... Joking wif u oni...</td>\n",
       "    </tr>\n",
       "    <tr>\n",
       "      <th>2</th>\n",
       "      <td> 1</td>\n",
       "      <td> Free entry in 2 a wkly comp to win FA Cup fina...</td>\n",
       "    </tr>\n",
       "    <tr>\n",
       "      <th>3</th>\n",
       "      <td> 0</td>\n",
       "      <td> U dun say so early hor... U c already then say...</td>\n",
       "    </tr>\n",
       "    <tr>\n",
       "      <th>4</th>\n",
       "      <td> 0</td>\n",
       "      <td> Nah I don't think he goes to usf, he lives aro...</td>\n",
       "    </tr>\n",
       "  </tbody>\n",
       "</table>\n",
       "</div>"
      ],
      "text/plain": [
       "   label                                                msg\n",
       "0      0  Go until jurong point, crazy.. Available only ...\n",
       "1      0                      Ok lar... Joking wif u oni...\n",
       "2      1  Free entry in 2 a wkly comp to win FA Cup fina...\n",
       "3      0  U dun say so early hor... U c already then say...\n",
       "4      0  Nah I don't think he goes to usf, he lives aro..."
      ]
     },
     "execution_count": 41,
     "metadata": {},
     "output_type": "execute_result"
    }
   ],
   "source": [
    "df.head()"
   ]
  },
  {
   "cell_type": "code",
   "execution_count": 42,
   "metadata": {
    "collapsed": false
   },
   "outputs": [],
   "source": [
    "# split into training and testing sets by calling sklearn lib\n",
    "# by default, the data set is split into 0.75 (training) and 0.25 (testing)\n",
    "from sklearn.cross_validation import train_test_split\n",
    "X_train, X_test, y_train, y_test = train_test_split(df.msg, df.label, random_state=1)"
   ]
  },
  {
   "cell_type": "code",
   "execution_count": 43,
   "metadata": {
    "collapsed": false
   },
   "outputs": [
    {
     "name": "stdout",
     "output_type": "stream",
     "text": [
      "(4179L,)\n",
      "[ '4mths half price Orange line rental & latest camera phones 4 FREE. Had your phone 11mths+? Call MobilesDirect free on 08000938767 to update now! or2stoptxt T&Cs'\n",
      " 'Did you stitch his trouser'\n",
      " 'Hope you enjoyed your new content. text stop to 61610 to unsubscribe. help:08712400602450p Provided by tones2you.co.uk'\n",
      " ...,\n",
      " 'CERI U REBEL! SWEET DREAMZ ME LITTLE BUDDY!! C YA 2MORO! WHO NEEDS BLOKES'\n",
      " 'Text & meet someone sexy today. U can find a date or even flirt its up to U. Join 4 just 10p. REPLY with NAME & AGE eg Sam 25. 18 -msg recd@thirtyeight pence'\n",
      " 'K k:) sms chat with me.']\n"
     ]
    }
   ],
   "source": [
    "print X_train.shape\n",
    "print X_train"
   ]
  },
  {
   "cell_type": "code",
   "execution_count": 44,
   "metadata": {
    "collapsed": false
   },
   "outputs": [
    {
     "data": {
      "text/plain": [
       "(1393L,)"
      ]
     },
     "execution_count": 44,
     "metadata": {},
     "output_type": "execute_result"
    }
   ],
   "source": [
    "X_test.shape"
   ]
  },
  {
   "cell_type": "markdown",
   "metadata": {},
   "source": [
    "Now we need to convert the text into feature vectors which can be used for machine learning purposes.\n",
    "We will use the scikit function of CountVectorizer to 'convert text into a matrix of token counts'\n",
    "\n",
    " http://scikit-learn.org/stable/modules/generated/sklearn.feature_extraction.text.CountVectorizer.html"
   ]
  },
  {
   "cell_type": "code",
   "execution_count": 45,
   "metadata": {
    "collapsed": false
   },
   "outputs": [],
   "source": [
    "from sklearn.feature_extraction.text import CountVectorizer"
   ]
  },
  {
   "cell_type": "code",
   "execution_count": 46,
   "metadata": {
    "collapsed": false
   },
   "outputs": [],
   "source": [
    "# start with a simple example\n",
    "train_simple = ['call you tonight',\n",
    "                'Call me a cab',\n",
    "                'please call me... PLEASE!']"
   ]
  },
  {
   "cell_type": "code",
   "execution_count": 47,
   "metadata": {
    "collapsed": false
   },
   "outputs": [
    {
     "data": {
      "text/plain": [
       "[u'cab', u'call', u'me', u'please', u'tonight', u'you']"
      ]
     },
     "execution_count": 47,
     "metadata": {},
     "output_type": "execute_result"
    }
   ],
   "source": [
    "# learn the 'vocabulary' of the training data\n",
    "vect = CountVectorizer(decode_error = 'ignore')\n",
    "vect.fit(train_simple)\n",
    "vect.get_feature_names()"
   ]
  },
  {
   "cell_type": "code",
   "execution_count": 48,
   "metadata": {
    "collapsed": false
   },
   "outputs": [
    {
     "data": {
      "text/plain": [
       "array([[0, 1, 0, 0, 1, 1],\n",
       "       [1, 1, 1, 0, 0, 0],\n",
       "       [0, 1, 1, 2, 0, 0]], dtype=int64)"
      ]
     },
     "execution_count": 48,
     "metadata": {},
     "output_type": "execute_result"
    }
   ],
   "source": [
    "# transform training data into a 'document-term matrix'\n",
    "train_simple_dtm = vect.transform(train_simple)\n",
    "train_simple_dtm.toarray()"
   ]
  },
  {
   "cell_type": "code",
   "execution_count": 49,
   "metadata": {
    "collapsed": false
   },
   "outputs": [
    {
     "data": {
      "text/html": [
       "<div style=\"max-height:1000px;max-width:1500px;overflow:auto;\">\n",
       "<table border=\"1\" class=\"dataframe\">\n",
       "  <thead>\n",
       "    <tr style=\"text-align: right;\">\n",
       "      <th></th>\n",
       "      <th>cab</th>\n",
       "      <th>call</th>\n",
       "      <th>me</th>\n",
       "      <th>please</th>\n",
       "      <th>tonight</th>\n",
       "      <th>you</th>\n",
       "    </tr>\n",
       "  </thead>\n",
       "  <tbody>\n",
       "    <tr>\n",
       "      <th>0</th>\n",
       "      <td> 0</td>\n",
       "      <td> 1</td>\n",
       "      <td> 0</td>\n",
       "      <td> 0</td>\n",
       "      <td> 1</td>\n",
       "      <td> 1</td>\n",
       "    </tr>\n",
       "    <tr>\n",
       "      <th>1</th>\n",
       "      <td> 1</td>\n",
       "      <td> 1</td>\n",
       "      <td> 1</td>\n",
       "      <td> 0</td>\n",
       "      <td> 0</td>\n",
       "      <td> 0</td>\n",
       "    </tr>\n",
       "    <tr>\n",
       "      <th>2</th>\n",
       "      <td> 0</td>\n",
       "      <td> 1</td>\n",
       "      <td> 1</td>\n",
       "      <td> 2</td>\n",
       "      <td> 0</td>\n",
       "      <td> 0</td>\n",
       "    </tr>\n",
       "  </tbody>\n",
       "</table>\n",
       "</div>"
      ],
      "text/plain": [
       "   cab  call  me  please  tonight  you\n",
       "0    0     1   0       0        1    1\n",
       "1    1     1   1       0        0    0\n",
       "2    0     1   1       2        0    0"
      ]
     },
     "execution_count": 49,
     "metadata": {},
     "output_type": "execute_result"
    }
   ],
   "source": [
    "# examine the vocabulary and document-term matrix together\n",
    "pd.DataFrame(train_simple_dtm.toarray(), columns=vect.get_feature_names())"
   ]
  },
  {
   "cell_type": "code",
   "execution_count": 50,
   "metadata": {
    "collapsed": false
   },
   "outputs": [
    {
     "data": {
      "text/html": [
       "<div style=\"max-height:1000px;max-width:1500px;overflow:auto;\">\n",
       "<table border=\"1\" class=\"dataframe\">\n",
       "  <thead>\n",
       "    <tr style=\"text-align: right;\">\n",
       "      <th></th>\n",
       "      <th>cab</th>\n",
       "      <th>call</th>\n",
       "      <th>me</th>\n",
       "      <th>please</th>\n",
       "      <th>tonight</th>\n",
       "      <th>you</th>\n",
       "    </tr>\n",
       "  </thead>\n",
       "  <tbody>\n",
       "    <tr>\n",
       "      <th>0</th>\n",
       "      <td> 0</td>\n",
       "      <td> 1</td>\n",
       "      <td> 1</td>\n",
       "      <td> 1</td>\n",
       "      <td> 0</td>\n",
       "      <td> 0</td>\n",
       "    </tr>\n",
       "  </tbody>\n",
       "</table>\n",
       "</div>"
      ],
      "text/plain": [
       "   cab  call  me  please  tonight  you\n",
       "0    0     1   1       1        0    0"
      ]
     },
     "execution_count": 50,
     "metadata": {},
     "output_type": "execute_result"
    }
   ],
   "source": [
    "# transform testing data into a document-term matrix (using existing vocabulary)\n",
    "test_simple = [\"please don't call me\"]\n",
    "test_simple_dtm = vect.transform(test_simple)\n",
    "test_simple_dtm.toarray()\n",
    "pd.DataFrame(test_simple_dtm.toarray(), columns=vect.get_feature_names())"
   ]
  },
  {
   "cell_type": "code",
   "execution_count": 21,
   "metadata": {
    "collapsed": false
   },
   "outputs": [
    {
     "data": {
      "text/plain": [
       "[u'00',\n",
       " u'000',\n",
       " u'008704050406',\n",
       " u'0121',\n",
       " u'01223585236',\n",
       " u'01223585334',\n",
       " u'0125698789',\n",
       " u'02',\n",
       " u'0207',\n",
       " u'02072069400',\n",
       " u'02073162414',\n",
       " u'02085076972',\n",
       " u'021',\n",
       " u'03',\n",
       " u'04',\n",
       " u'0430',\n",
       " u'05',\n",
       " u'050703',\n",
       " u'0578',\n",
       " u'06',\n",
       " u'07',\n",
       " u'07008009200',\n",
       " u'07090201529',\n",
       " u'07090298926',\n",
       " u'07123456789',\n",
       " u'07732584351',\n",
       " u'07734396839',\n",
       " u'07742676969',\n",
       " u'0776xxxxxxx',\n",
       " u'07781482378',\n",
       " u'07786200117',\n",
       " u'078',\n",
       " u'07801543489',\n",
       " u'07808',\n",
       " u'07808247860',\n",
       " u'07808726822',\n",
       " u'07815296484',\n",
       " u'07821230901',\n",
       " u'07880867867',\n",
       " u'0789xxxxxxx',\n",
       " u'07946746291',\n",
       " u'0796xxxxxx',\n",
       " u'07973788240',\n",
       " u'07xxxxxxxxx',\n",
       " u'08',\n",
       " u'0800',\n",
       " u'08000407165',\n",
       " u'08000776320',\n",
       " u'08000839402',\n",
       " u'08000930705',\n",
       " u'08000938767',\n",
       " u'08001950382',\n",
       " u'08002888812',\n",
       " u'08002986030',\n",
       " u'08002986906',\n",
       " u'08002988890',\n",
       " u'08006344447',\n",
       " u'0808',\n",
       " u'08081263000',\n",
       " u'08081560665',\n",
       " u'0825',\n",
       " u'083',\n",
       " u'0844',\n",
       " u'08448714184',\n",
       " u'0845',\n",
       " u'08450542832',\n",
       " u'08452810071',\n",
       " u'08452810073',\n",
       " u'08452810075over18',\n",
       " u'0870',\n",
       " u'08700435505150p',\n",
       " u'08700469649',\n",
       " u'08700621170150p',\n",
       " u'08701213186',\n",
       " u'08701417012',\n",
       " u'08701417012150p',\n",
       " u'0870141701216',\n",
       " u'087016248',\n",
       " u'08701752560',\n",
       " u'0870241182716',\n",
       " u'08702840625',\n",
       " u'08704050406',\n",
       " u'08704439680',\n",
       " u'08706091795',\n",
       " u'0870737910216yrs',\n",
       " u'08707509020',\n",
       " u'08707808226',\n",
       " u'08708034412',\n",
       " u'08709222922',\n",
       " u'08709501522',\n",
       " u'0871',\n",
       " u'087104711148',\n",
       " u'08712101358',\n",
       " u'08712103738',\n",
       " u'0871212025016',\n",
       " u'08712300220',\n",
       " u'087123002209am',\n",
       " u'08712317606',\n",
       " u'08712400602450p',\n",
       " u'08712400603',\n",
       " u'08712402050',\n",
       " u'08712402578',\n",
       " u'08712402779',\n",
       " u'08712402902',\n",
       " u'08712402972',\n",
       " u'08712404000',\n",
       " u'08712405020',\n",
       " u'08712405022',\n",
       " u'08712460324',\n",
       " u'0871277810710p',\n",
       " u'0871277810810',\n",
       " u'0871277810910p',\n",
       " u'08714342399',\n",
       " u'08714712379',\n",
       " u'08714712388',\n",
       " u'08714712394',\n",
       " u'08714712412',\n",
       " u'08715203028',\n",
       " u'08715203649',\n",
       " u'08715203652',\n",
       " u'08715203685',\n",
       " u'08715203694',\n",
       " u'08715500022',\n",
       " u'08715705022',\n",
       " u'08717168528',\n",
       " u'08717205546',\n",
       " u'0871750',\n",
       " u'08717898035',\n",
       " u'08718711108',\n",
       " u'08718720201',\n",
       " u'08718723815',\n",
       " u'08718725756',\n",
       " u'08718726270',\n",
       " u'087187262701',\n",
       " u'08718726970',\n",
       " u'08718726971',\n",
       " u'08718726978',\n",
       " u'08718727868',\n",
       " u'08718727870',\n",
       " u'08718727870150ppm',\n",
       " u'08718730555',\n",
       " u'08718730666',\n",
       " u'08718738001',\n",
       " u'08718738002',\n",
       " u'08719180248',\n",
       " u'08719181503',\n",
       " u'08719181513',\n",
       " u'08719899217',\n",
       " u'08719899229',\n",
       " u'08719899230',\n",
       " u'09',\n",
       " u'09050000301',\n",
       " u'09050000332',\n",
       " u'09050000460',\n",
       " u'09050000555',\n",
       " u'09050000878',\n",
       " u'09050000928',\n",
       " u'09050001295',\n",
       " u'09050001808',\n",
       " u'09050002311',\n",
       " u'09050003091',\n",
       " u'09050090044',\n",
       " u'09050280520',\n",
       " u'09053750005',\n",
       " u'09056242159',\n",
       " u'09057039994',\n",
       " u'09058091854',\n",
       " u'09058091870',\n",
       " u'09058094454',\n",
       " u'09058094455',\n",
       " u'09058094507',\n",
       " u'09058094565',\n",
       " u'09058094583',\n",
       " u'09058094594',\n",
       " u'09058094597',\n",
       " u'09058094599',\n",
       " u'09058098002',\n",
       " u'09058099801',\n",
       " u'09061104276',\n",
       " u'09061104283',\n",
       " u'09061209465',\n",
       " u'09061213237',\n",
       " u'09061221061',\n",
       " u'09061221066',\n",
       " u'09061701444',\n",
       " u'09061701461',\n",
       " u'09061701939',\n",
       " u'09061702893',\n",
       " u'09061743386',\n",
       " u'09061743806',\n",
       " u'09061743810',\n",
       " u'09061743811',\n",
       " u'09061744553',\n",
       " u'09061749602',\n",
       " u'09061790121',\n",
       " u'09061790125',\n",
       " u'09061790126',\n",
       " u'09063440451',\n",
       " u'09063458130',\n",
       " u'0906346330',\n",
       " u'09064011000',\n",
       " u'09064012103',\n",
       " u'09064012160',\n",
       " u'09064015307',\n",
       " u'09064017295',\n",
       " u'09064018838',\n",
       " u'09064019014',\n",
       " u'09064019788',\n",
       " u'09065069120',\n",
       " u'09065069154',\n",
       " u'09065171142',\n",
       " u'09065174042',\n",
       " u'09065394514',\n",
       " u'09065989180',\n",
       " u'09065989182',\n",
       " u'09066350750',\n",
       " u'09066358152',\n",
       " u'09066358361',\n",
       " u'09066361921',\n",
       " u'09066362231',\n",
       " u'09066364311',\n",
       " u'09066364349',\n",
       " u'09066364589',\n",
       " u'09066368470',\n",
       " u'09066380611',\n",
       " u'09066382422',\n",
       " u'09066612661',\n",
       " u'09066649731from',\n",
       " u'09066660100',\n",
       " u'09071512433',\n",
       " u'09077818151',\n",
       " u'09090204448',\n",
       " u'09094100151',\n",
       " u'09094646631',\n",
       " u'09095350301',\n",
       " u'09096102316',\n",
       " u'09099725823',\n",
       " u'09099726395',\n",
       " u'09099726429',\n",
       " u'09099726481',\n",
       " u'09099726553',\n",
       " u'09111032124',\n",
       " u'09701213186',\n",
       " u'0a',\n",
       " u'10',\n",
       " u'100',\n",
       " u'1000',\n",
       " u'1000s',\n",
       " u'100p',\n",
       " u'100percent',\n",
       " u'1013',\n",
       " u'1030',\n",
       " u'10am',\n",
       " u'10k',\n",
       " u'10p',\n",
       " u'10ppm',\n",
       " u'10th',\n",
       " u'11',\n",
       " u'1120',\n",
       " u'113',\n",
       " u'1131',\n",
       " u'114',\n",
       " u'116',\n",
       " u'118p',\n",
       " u'11mths',\n",
       " u'11pm',\n",
       " u'12',\n",
       " u'1205',\n",
       " u'120p',\n",
       " u'121',\n",
       " u'1225',\n",
       " u'123',\n",
       " u'125',\n",
       " u'1250',\n",
       " u'125gift',\n",
       " u'128',\n",
       " u'12hrs',\n",
       " u'12mths',\n",
       " u'13',\n",
       " u'130',\n",
       " u'1327',\n",
       " u'139',\n",
       " u'14',\n",
       " u'140',\n",
       " u'1405',\n",
       " u'140ppm',\n",
       " u'145',\n",
       " u'1450',\n",
       " u'146tf150p',\n",
       " u'14thmarch',\n",
       " u'15',\n",
       " u'150',\n",
       " u'1500',\n",
       " u'150p',\n",
       " u'150p16',\n",
       " u'150pm',\n",
       " u'150ppermesssubscription',\n",
       " u'150ppm',\n",
       " u'151',\n",
       " u'153',\n",
       " u'15pm',\n",
       " u'16',\n",
       " u'165',\n",
       " u'1680',\n",
       " u'169',\n",
       " u'177',\n",
       " u'18',\n",
       " u'180',\n",
       " u'1843',\n",
       " u'18p',\n",
       " u'18yrs',\n",
       " u'195',\n",
       " u'1956669',\n",
       " u'1apple',\n",
       " u'1b6a5ecef91ff9',\n",
       " u'1cup',\n",
       " u'1er',\n",
       " u'1hr',\n",
       " u'1im',\n",
       " u'1lemon',\n",
       " u'1mega',\n",
       " u'1million',\n",
       " u'1pm',\n",
       " u'1st',\n",
       " u'1st4terms',\n",
       " u'1stchoice',\n",
       " u'1thing',\n",
       " u'1tulsi',\n",
       " u'1win150ppmx3',\n",
       " u'1winaweek',\n",
       " u'1winawk',\n",
       " u'1x150p',\n",
       " u'1yf',\n",
       " u'20',\n",
       " u'200',\n",
       " u'2000',\n",
       " u'2003',\n",
       " u'2004',\n",
       " u'2005',\n",
       " u'2006',\n",
       " u'2007',\n",
       " u'2025050',\n",
       " u'20m12aq',\n",
       " u'20p',\n",
       " u'21',\n",
       " u'21870000',\n",
       " u'21st',\n",
       " u'22',\n",
       " u'220',\n",
       " u'220cm2',\n",
       " u'2309',\n",
       " u'23f',\n",
       " u'23g',\n",
       " u'24',\n",
       " u'24hrs',\n",
       " u'24m',\n",
       " u'24th',\n",
       " u'25',\n",
       " u'250',\n",
       " u'250k',\n",
       " u'255',\n",
       " u'25p',\n",
       " u'26',\n",
       " u'2667',\n",
       " u'26th',\n",
       " u'27',\n",
       " u'28',\n",
       " u'2814032',\n",
       " u'28days',\n",
       " u'28th',\n",
       " u'28thfeb',\n",
       " u'29',\n",
       " u'2b',\n",
       " u'2c',\n",
       " u'2channel',\n",
       " u'2day',\n",
       " u'2docd',\n",
       " u'2end',\n",
       " u'2ez',\n",
       " u'2find',\n",
       " u'2getha',\n",
       " u'2geva',\n",
       " u'2go',\n",
       " u'2gthr',\n",
       " u'2hrs',\n",
       " u'2kbsubject',\n",
       " u'2lands',\n",
       " u'2marrow',\n",
       " u'2moro',\n",
       " u'2morow',\n",
       " u'2morro',\n",
       " u'2morrow',\n",
       " u'2morrowxxxx',\n",
       " u'2mro',\n",
       " u'2mrw',\n",
       " u'2mwen',\n",
       " u'2nd',\n",
       " u'2nite',\n",
       " u'2optout',\n",
       " u'2px',\n",
       " u'2rcv',\n",
       " u'2stop',\n",
       " u'2stoptxt',\n",
       " u'2u',\n",
       " u'2watershd',\n",
       " u'2waxsto',\n",
       " u'2wks',\n",
       " u'2wt',\n",
       " u'2wu',\n",
       " u'2yr',\n",
       " u'2yrs',\n",
       " u'30',\n",
       " u'300',\n",
       " u'3000',\n",
       " u'300603',\n",
       " u'300p',\n",
       " u'3030',\n",
       " u'30apr',\n",
       " u'30ish',\n",
       " u'30pm',\n",
       " u'30pp',\n",
       " u'30s',\n",
       " u'31',\n",
       " u'3100',\n",
       " u'310303',\n",
       " u'31p',\n",
       " u'32',\n",
       " u'32000',\n",
       " u'326',\n",
       " u'33',\n",
       " u'330',\n",
       " u'350',\n",
       " u'3510i',\n",
       " u'3650',\n",
       " u'36504',\n",
       " u'3680',\n",
       " u'3750',\n",
       " u'37819',\n",
       " u'382',\n",
       " u'391784',\n",
       " u'3aj',\n",
       " u'3d',\n",
       " u'3days',\n",
       " u'3g',\n",
       " u'3gbp',\n",
       " u'3hrs',\n",
       " u'3lions',\n",
       " u'3lp',\n",
       " u'3miles',\n",
       " u'3mins',\n",
       " u'3mobile',\n",
       " u'3optical',\n",
       " u'3pound',\n",
       " u'3qxj9',\n",
       " u'3rd',\n",
       " u'3ss',\n",
       " u'3uz',\n",
       " u'3wks',\n",
       " u'3x150pw',\n",
       " u'3xx',\n",
       " u'40',\n",
       " u'400',\n",
       " u'400mins',\n",
       " u'400thousad',\n",
       " u'402',\n",
       " u'40411',\n",
       " u'40533',\n",
       " u'40gb',\n",
       " u'40mph',\n",
       " u'41685',\n",
       " u'41782',\n",
       " u'420',\n",
       " u'4217',\n",
       " u'42810',\n",
       " u'430',\n",
       " u'434',\n",
       " u'44',\n",
       " u'440',\n",
       " u'4403ldnw1a7rw18',\n",
       " u'44345',\n",
       " u'447797706009',\n",
       " u'447801259231',\n",
       " u'448712404000',\n",
       " u'449050000301',\n",
       " u'45',\n",
       " u'450p',\n",
       " u'450ppw',\n",
       " u'45239',\n",
       " u'45pm',\n",
       " u'47',\n",
       " u'4719',\n",
       " u'4742',\n",
       " u'47per',\n",
       " u'48',\n",
       " u'4882',\n",
       " u'48922',\n",
       " u'49',\n",
       " u'49557',\n",
       " u'4a',\n",
       " u'4d',\n",
       " u'4eva',\n",
       " u'4few',\n",
       " u'4fil',\n",
       " u'4get',\n",
       " u'4got',\n",
       " u'4info',\n",
       " u'4msgs',\n",
       " u'4mths',\n",
       " u'4qf2',\n",
       " u'4t',\n",
       " u'4th',\n",
       " u'4txt',\n",
       " u'4u',\n",
       " u'4utxt',\n",
       " u'4w',\n",
       " u'4wrd',\n",
       " u'4xx26',\n",
       " u'4years',\n",
       " u'50',\n",
       " u'500',\n",
       " u'5000',\n",
       " u'50award',\n",
       " u'50ea',\n",
       " u'50gbp',\n",
       " u'50p',\n",
       " u'50perweeksub',\n",
       " u'50perwksub',\n",
       " u'50pm',\n",
       " u'50ppm',\n",
       " u'50rcvd',\n",
       " u'50s',\n",
       " u'515',\n",
       " u'5226',\n",
       " u'523',\n",
       " u'5249',\n",
       " u'526',\n",
       " u'528',\n",
       " u'530',\n",
       " u'54',\n",
       " u'542',\n",
       " u'5digital',\n",
       " u'5free',\n",
       " u'5ish',\n",
       " u'5k',\n",
       " u'5min',\n",
       " u'5mls',\n",
       " u'5p',\n",
       " u'5pm',\n",
       " u'5th',\n",
       " u'5wb',\n",
       " u'5we',\n",
       " u'5wkg',\n",
       " u'5wq',\n",
       " u'5years',\n",
       " u'60',\n",
       " u'600',\n",
       " u'6031',\n",
       " u'6089',\n",
       " u'60p',\n",
       " u'61',\n",
       " u'61200',\n",
       " u'61610',\n",
       " u'62468',\n",
       " u'630',\n",
       " u'63miles',\n",
       " u'645',\n",
       " u'65',\n",
       " u'66',\n",
       " u'6669',\n",
       " u'674',\n",
       " u'67441233',\n",
       " u'68866',\n",
       " u'69101',\n",
       " u'69669',\n",
       " u'69696',\n",
       " u'69698',\n",
       " u'69855',\n",
       " u'69866',\n",
       " u'69888',\n",
       " u'69888nyt',\n",
       " u'69911',\n",
       " u'69969',\n",
       " u'69988',\n",
       " u'6hrs',\n",
       " u'6ish',\n",
       " u'6missed',\n",
       " u'6months',\n",
       " u'6ph',\n",
       " u'6pm',\n",
       " u'6th',\n",
       " u'6wu',\n",
       " u'6zf',\n",
       " u'700',\n",
       " u'7250',\n",
       " u'7250i',\n",
       " u'730',\n",
       " u'731',\n",
       " u'75',\n",
       " u'750',\n",
       " u'75max',\n",
       " u'762',\n",
       " u'7634',\n",
       " u'7684',\n",
       " u'77',\n",
       " u'7732584351',\n",
       " u'78',\n",
       " u'786',\n",
       " u'7876150ppm',\n",
       " u'7am',\n",
       " u'7cfca1a',\n",
       " u'7ish',\n",
       " u'7oz',\n",
       " u'7pm',\n",
       " u'7th',\n",
       " u'7ws',\n",
       " u'800',\n",
       " u'8000930705',\n",
       " u'80062',\n",
       " u'8007',\n",
       " u'80082',\n",
       " u'80086',\n",
       " u'80122300p',\n",
       " u'80155',\n",
       " u'80182',\n",
       " u'8027',\n",
       " u'80488',\n",
       " u'80608',\n",
       " u'8077',\n",
       " u'80878',\n",
       " u'81010',\n",
       " u'81151',\n",
       " u'81303',\n",
       " u'81618',\n",
       " u'820554ad0a1705572711',\n",
       " u'82242',\n",
       " u'82277',\n",
       " u'82324',\n",
       " u'82468',\n",
       " u'83049',\n",
       " u'83110',\n",
       " u'83118',\n",
       " u'83222',\n",
       " u'83332',\n",
       " u'83338',\n",
       " u'83355',\n",
       " u'83600',\n",
       " u'83738',\n",
       " u'84',\n",
       " u'84025',\n",
       " u'84122',\n",
       " u'84128',\n",
       " u'84199',\n",
       " u'84484',\n",
       " u'85',\n",
       " u'85023',\n",
       " u'85069',\n",
       " u'85222',\n",
       " u'85233',\n",
       " u'8552',\n",
       " u'86021',\n",
       " u'861',\n",
       " u'864233',\n",
       " u'86688',\n",
       " u'86888',\n",
       " u'87021',\n",
       " u'87066',\n",
       " u'87070',\n",
       " u'87077',\n",
       " u'87121',\n",
       " u'87131',\n",
       " u'872',\n",
       " u'87239',\n",
       " u'87575',\n",
       " u'88039',\n",
       " u'88066',\n",
       " u'88088',\n",
       " u'88222',\n",
       " u'88600',\n",
       " u'88800',\n",
       " u'8883',\n",
       " u'88877',\n",
       " u'88888',\n",
       " u'89034',\n",
       " u'89070',\n",
       " u'89080',\n",
       " u'89105',\n",
       " u'89545',\n",
       " u'89555',\n",
       " u'89693',\n",
       " u'89938',\n",
       " u'8am',\n",
       " u'8ball',\n",
       " u'8lb',\n",
       " u'8p',\n",
       " u'8pm',\n",
       " u'8th',\n",
       " u'8wp',\n",
       " u'900',\n",
       " u'9061100010',\n",
       " u'910',\n",
       " u'9153',\n",
       " u'92h',\n",
       " u'930',\n",
       " u'9307622',\n",
       " u'945',\n",
       " u'95',\n",
       " u'9755',\n",
       " u'9758',\n",
       " u'99',\n",
       " u'9996',\n",
       " u'9ae',\n",
       " u'9am',\n",
       " u'9pm',\n",
       " u'9t',\n",
       " u'9th',\n",
       " u'9yt',\n",
       " u'____',\n",
       " u'_thanks',\n",
       " u'a1',\n",
       " u'a21',\n",
       " u'a30',\n",
       " u'aah',\n",
       " u'aaniye',\n",
       " u'aaooooright',\n",
       " u'aathi',\n",
       " u'abbey',\n",
       " u'abdomen',\n",
       " u'abeg',\n",
       " u'abel',\n",
       " u'aberdeen',\n",
       " u'abi',\n",
       " u'ability',\n",
       " u'abiola',\n",
       " u'abj',\n",
       " u'able',\n",
       " u'abnormally',\n",
       " u'about',\n",
       " u'aboutas',\n",
       " u'abroad',\n",
       " u'absence',\n",
       " u'absolutely',\n",
       " u'absolutly',\n",
       " u'abstract',\n",
       " u'abt',\n",
       " u'abta',\n",
       " u'ac',\n",
       " u'academic',\n",
       " u'acc',\n",
       " u'accent',\n",
       " u'accenture',\n",
       " u'accept',\n",
       " u'access',\n",
       " u'accessible',\n",
       " u'accidant',\n",
       " u'accident',\n",
       " u'accidentally',\n",
       " u'accommodation',\n",
       " u'accomodate',\n",
       " u'accomodations',\n",
       " u'accordin',\n",
       " u'accordingly',\n",
       " u'account',\n",
       " u'accounting',\n",
       " u'accounts',\n",
       " u'achan',\n",
       " u'ache',\n",
       " u'achieve',\n",
       " u'acid',\n",
       " u'acl03530150pm',\n",
       " u'acnt',\n",
       " u'aco',\n",
       " u'across',\n",
       " u'act',\n",
       " u'acted',\n",
       " u'actin',\n",
       " u'acting',\n",
       " u'action',\n",
       " u'activ8',\n",
       " u'activate',\n",
       " u'active',\n",
       " u'activities',\n",
       " u'actor',\n",
       " u'actual',\n",
       " u'actually',\n",
       " u'ad',\n",
       " u'adam',\n",
       " u'add',\n",
       " u'addamsfa',\n",
       " u'added',\n",
       " u'addicted',\n",
       " u'addie',\n",
       " u'adding',\n",
       " u'address',\n",
       " u'adewale',\n",
       " u'adjustable',\n",
       " u'admin',\n",
       " u'administrator',\n",
       " u'admirer',\n",
       " u'admission',\n",
       " u'admit',\n",
       " u'adore',\n",
       " u'adoring',\n",
       " u'adp',\n",
       " u'adress',\n",
       " u'adrian',\n",
       " u'adrink',\n",
       " u'ads',\n",
       " u'adsense',\n",
       " u'adult',\n",
       " u'adults',\n",
       " u'advance',\n",
       " u'adventure',\n",
       " u'advice',\n",
       " u'advise',\n",
       " u'advising',\n",
       " u'advisors',\n",
       " u'aeronautics',\n",
       " u'aeroplane',\n",
       " u'affair',\n",
       " u'affairs',\n",
       " u'affection',\n",
       " u'affections',\n",
       " u'affidavit',\n",
       " u'afford',\n",
       " u'afghanistan',\n",
       " u'afraid',\n",
       " u'africa',\n",
       " u'african',\n",
       " u'aft',\n",
       " u'after',\n",
       " u'afternon',\n",
       " u'afternoon',\n",
       " u'afterwards',\n",
       " u'aftr',\n",
       " u'ag',\n",
       " u'again',\n",
       " u'against',\n",
       " u'age',\n",
       " u'age16',\n",
       " u'age23',\n",
       " u'agency',\n",
       " u'agent',\n",
       " u'agents',\n",
       " u'ages',\n",
       " u'agidhane',\n",
       " u'aging',\n",
       " u'ago',\n",
       " u'agree',\n",
       " u'ah',\n",
       " u'aha',\n",
       " u'ahead',\n",
       " u'ahhh',\n",
       " u'ahhhh',\n",
       " u'ahmad',\n",
       " u'aids',\n",
       " u'aig',\n",
       " u'aight',\n",
       " u'ain',\n",
       " u'aint',\n",
       " u'air',\n",
       " u'air1',\n",
       " u'airport',\n",
       " u'airtel',\n",
       " u'aiya',\n",
       " u'aiyah',\n",
       " u'aiyar',\n",
       " u'aiyo',\n",
       " u'ajith',\n",
       " u'ak',\n",
       " u'aka',\n",
       " u'akon',\n",
       " u'al',\n",
       " u'alaipayuthe',\n",
       " u'album',\n",
       " u'alcohol',\n",
       " u'aldrine',\n",
       " u'alert',\n",
       " u'alertfrom',\n",
       " u'alerts',\n",
       " u'alex',\n",
       " u'alfie',\n",
       " u'algarve',\n",
       " u'algebra',\n",
       " u'ali',\n",
       " u'alian',\n",
       " u'alibi',\n",
       " u'alive',\n",
       " u'all',\n",
       " u'allah',\n",
       " u'allday',\n",
       " u'allow',\n",
       " u'allowed',\n",
       " u'allows',\n",
       " u'almost',\n",
       " u'alone',\n",
       " u'along',\n",
       " u'alot',\n",
       " u'already',\n",
       " u'alright',\n",
       " u'alrite',\n",
       " u'also',\n",
       " u'alto18',\n",
       " u'alwa',\n",
       " u'always',\n",
       " u'alwys',\n",
       " u'am',\n",
       " u'amanda',\n",
       " u'amazing',\n",
       " u'ambitious',\n",
       " u'american',\n",
       " u'ami',\n",
       " u'amk',\n",
       " u'amla',\n",
       " u'amma',\n",
       " u'ammae',\n",
       " u'ammo',\n",
       " u'among',\n",
       " u'amongst',\n",
       " u'amore',\n",
       " u'amount',\n",
       " u'amp',\n",
       " u'amplikater',\n",
       " u'amrita',\n",
       " u'ams',\n",
       " u'amt',\n",
       " u'amused',\n",
       " u'an',\n",
       " u'analysis',\n",
       " u'anand',\n",
       " u'and',\n",
       " u'anderson',\n",
       " u'andre',\n",
       " u'andres',\n",
       " u'andrews',\n",
       " u'angry',\n",
       " u'animal',\n",
       " u'animation',\n",
       " u'anna',\n",
       " u'annie',\n",
       " u'anniversary',\n",
       " u'announced',\n",
       " u'announcement',\n",
       " u'annoyin',\n",
       " u'annoying',\n",
       " u'anot',\n",
       " u'another',\n",
       " u'ans',\n",
       " u'ansr',\n",
       " u'answer',\n",
       " u'answered',\n",
       " u'answerin',\n",
       " u'answering',\n",
       " u'answers',\n",
       " u'answr',\n",
       " u'antelope',\n",
       " u'antha',\n",
       " u'anthony',\n",
       " u'anti',\n",
       " u'antibiotic',\n",
       " u'any',\n",
       " u'anybody',\n",
       " u'anymore',\n",
       " u'anyone',\n",
       " u'anyones',\n",
       " u'anyplaces',\n",
       " u'anythiing',\n",
       " u'anythin',\n",
       " u'anything',\n",
       " u'anythingtomorrow',\n",
       " u'anytime',\n",
       " u'anyway',\n",
       " u'anyways',\n",
       " u'anywhere',\n",
       " u'aom',\n",
       " u'apart',\n",
       " u'apartment',\n",
       " u'apes',\n",
       " u'apeshit',\n",
       " u'aphexs',\n",
       " u'apnt',\n",
       " u'apo',\n",
       " u'apologetic',\n",
       " u'apologise',\n",
       " u'apologize',\n",
       " u'apology',\n",
       " u'app',\n",
       " u'apparently',\n",
       " u'appeal',\n",
       " u'appear',\n",
       " u'appendix',\n",
       " u'applausestore',\n",
       " u'applebees',\n",
       " u'apples',\n",
       " u'application',\n",
       " u'apply',\n",
       " u'applying',\n",
       " u'appointment',\n",
       " u'appointments',\n",
       " u'appreciate',\n",
       " u'appropriate',\n",
       " ...]"
      ]
     },
     "execution_count": 21,
     "metadata": {},
     "output_type": "execute_result"
    }
   ],
   "source": [
    "# instantiate the vectorizer ( use variable name as vect)\n",
    "vect = CountVectorizer(decode_error = 'ignore')\n",
    "vect.fit(X_train)\n",
    "vect.get_feature_names()"
   ]
  },
  {
   "cell_type": "code",
   "execution_count": 51,
   "metadata": {
    "collapsed": false
   },
   "outputs": [
    {
     "name": "stdout",
     "output_type": "stream",
     "text": [
      "  (1, 2)\t1\n",
      "  (1, 5)\t1\n",
      "  (5, 2)\t1\n",
      "  (10, 5)\t1\n",
      "  (16, 5)\t1\n",
      "  (17, 2)\t1\n",
      "  (17, 5)\t1\n",
      "  (18, 1)\t1\n",
      "  (19, 3)\t1\n",
      "  (22, 5)\t1\n",
      "  (24, 5)\t1\n",
      "  (29, 5)\t3\n",
      "  (30, 5)\t1\n",
      "  (32, 2)\t1\n",
      "  (34, 5)\t1\n",
      "  (35, 5)\t1\n",
      "  (36, 5)\t2\n",
      "  (37, 1)\t1\n",
      "  (39, 5)\t3\n",
      "  (40, 1)\t1\n",
      "  (41, 2)\t1\n",
      "  (41, 5)\t1\n",
      "  (42, 5)\t1\n",
      "  (43, 5)\t1\n",
      "  (45, 5)\t1\n",
      "  :\t:\n",
      "  (1339, 5)\t2\n",
      "  (1341, 4)\t1\n",
      "  (1346, 5)\t2\n",
      "  (1347, 5)\t2\n",
      "  (1348, 5)\t1\n",
      "  (1349, 1)\t1\n",
      "  (1350, 5)\t1\n",
      "  (1352, 5)\t5\n",
      "  (1354, 5)\t1\n",
      "  (1357, 2)\t1\n",
      "  (1357, 5)\t1\n",
      "  (1362, 5)\t2\n",
      "  (1363, 3)\t1\n",
      "  (1371, 1)\t1\n",
      "  (1371, 5)\t2\n",
      "  (1374, 1)\t1\n",
      "  (1374, 5)\t1\n",
      "  (1376, 1)\t1\n",
      "  (1377, 1)\t1\n",
      "  (1377, 5)\t1\n",
      "  (1378, 5)\t1\n",
      "  (1382, 5)\t2\n",
      "  (1384, 1)\t1\n",
      "  (1389, 5)\t1\n",
      "  (1392, 2)\t1\n"
     ]
    }
   ],
   "source": [
    "# transform testing data into a document-term matrix: Use Variable name as test_dtm\n",
    "train_dtm = vect.transform(X_train)\n",
    "test_dtm = vect.transform(X_test)\n",
    "print test_dtm"
   ]
  },
  {
   "cell_type": "code",
   "execution_count": 52,
   "metadata": {
    "collapsed": false
   },
   "outputs": [
    {
     "data": {
      "text/plain": [
       "6"
      ]
     },
     "execution_count": 52,
     "metadata": {},
     "output_type": "execute_result"
    }
   ],
   "source": [
    "# Get the length  and names of the feature names\n",
    "train_features = vect.get_feature_names()\n",
    "len(train_features)"
   ]
  },
  {
   "cell_type": "code",
   "execution_count": 53,
   "metadata": {
    "collapsed": false
   },
   "outputs": [
    {
     "data": {
      "text/plain": [
       "[u'cab', u'call', u'me', u'please', u'tonight', u'you']"
      ]
     },
     "execution_count": 53,
     "metadata": {},
     "output_type": "execute_result"
    }
   ],
   "source": [
    "train_features[:50]"
   ]
  },
  {
   "cell_type": "code",
   "execution_count": 25,
   "metadata": {
    "collapsed": false
   },
   "outputs": [
    {
     "data": {
      "text/plain": [
       "[u'yeovil',\n",
       " u'yep',\n",
       " u'yer',\n",
       " u'yes',\n",
       " u'yest',\n",
       " u'yesterday',\n",
       " u'yet',\n",
       " u'yetunde',\n",
       " u'yijue',\n",
       " u'ym',\n",
       " u'ymca',\n",
       " u'yo',\n",
       " u'yoga',\n",
       " u'yogasana',\n",
       " u'yor',\n",
       " u'yorge',\n",
       " u'you',\n",
       " u'youdoing',\n",
       " u'youi',\n",
       " u'youphone',\n",
       " u'your',\n",
       " u'youre',\n",
       " u'yourjob',\n",
       " u'yours',\n",
       " u'yourself',\n",
       " u'youwanna',\n",
       " u'yowifes',\n",
       " u'yoyyooo',\n",
       " u'yr',\n",
       " u'yrs',\n",
       " u'ything',\n",
       " u'yummmm',\n",
       " u'yummy',\n",
       " u'yun',\n",
       " u'yunny',\n",
       " u'yuo',\n",
       " u'yuou',\n",
       " u'yup',\n",
       " u'zac',\n",
       " u'zaher',\n",
       " u'zealand',\n",
       " u'zebra',\n",
       " u'zed',\n",
       " u'zeros',\n",
       " u'zhong',\n",
       " u'zindgi',\n",
       " u'zoe',\n",
       " u'zoom',\n",
       " u'zouk',\n",
       " u'zyada']"
      ]
     },
     "execution_count": 25,
     "metadata": {},
     "output_type": "execute_result"
    }
   ],
   "source": [
    "train_features[-50:]"
   ]
  },
  {
   "cell_type": "code",
   "execution_count": 54,
   "metadata": {
    "collapsed": false
   },
   "outputs": [
    {
     "data": {
      "text/plain": [
       "array([[0, 1, 0, 0, 0, 0],\n",
       "       [0, 0, 0, 0, 0, 1],\n",
       "       [0, 0, 0, 0, 0, 1],\n",
       "       ..., \n",
       "       [0, 0, 1, 0, 0, 0],\n",
       "       [0, 0, 0, 0, 0, 0],\n",
       "       [0, 0, 1, 0, 0, 0]], dtype=int64)"
      ]
     },
     "execution_count": 54,
     "metadata": {},
     "output_type": "execute_result"
    }
   ],
   "source": [
    "# convert train_dtm to a regular array\n",
    "train_arr = train_dtm.toarray()\n",
    "train_arr"
   ]
  },
  {
   "cell_type": "code",
   "execution_count": 55,
   "metadata": {
    "collapsed": false
   },
   "outputs": [
    {
     "name": "stdout",
     "output_type": "stream",
     "text": [
      "1\n",
      "8\n",
      "[1 2 3 4]\n",
      "[1 5]\n",
      "36\n",
      "[ 6  8 10 12]\n",
      "[10 26]\n"
     ]
    }
   ],
   "source": [
    "\n",
    "# Revisit Numpy\n",
    "arr = np.array([[1, 2, 3, 4], [5, 6, 7, 8]])\n",
    "print arr[0, 0]\n",
    "print arr[1, 3]\n",
    "print arr[0, :]\n",
    "print arr[:, 0]\n",
    "print np.sum(arr)\n",
    "print np.sum(arr,axis = 0)\n",
    "print np.sum(arr,axis = 1)\n",
    "\n",
    "\n"
   ]
  },
  {
   "cell_type": "code",
   "execution_count": 56,
   "metadata": {
    "collapsed": false
   },
   "outputs": [
    {
     "name": "stdout",
     "output_type": "stream",
     "text": [
      "1\n"
     ]
    }
   ],
   "source": [
    "# exercise: calculate the number of tokens in the 0th message in train_arr\n",
    "print np.sum(train_arr[0,:])"
   ]
  },
  {
   "cell_type": "code",
   "execution_count": 57,
   "metadata": {
    "collapsed": false
   },
   "outputs": [
    {
     "name": "stdout",
     "output_type": "stream",
     "text": [
      "1\n"
     ]
    }
   ],
   "source": [
    "\n",
    "# exercise: count how many times the 0th token appears across ALL messages in train_arr\n",
    "print np.sum(train_arr[:,0])"
   ]
  },
  {
   "cell_type": "code",
   "execution_count": 58,
   "metadata": {
    "collapsed": false
   },
   "outputs": [
    {
     "name": "stdout",
     "output_type": "stream",
     "text": [
      "[   1  443  601  103   47 1660]\n"
     ]
    }
   ],
   "source": [
    "# exercise: count how many times EACH token appears across ALL messages in train_arr\n",
    "print np.sum(train_arr, axis=0)"
   ]
  },
  {
   "cell_type": "code",
   "execution_count": null,
   "metadata": {
    "collapsed": false
   },
   "outputs": [],
   "source": [
    "# exercise: create a DataFrame of tokens with their counts.\n"
   ]
  },
  {
   "cell_type": "markdown",
   "metadata": {},
   "source": [
    "Let's build the model with Naive Bayes Now\n",
    "\n",
    "http://scikit-learn.org/stable/modules/naive_bayes.html"
   ]
  },
  {
   "cell_type": "code",
   "execution_count": 59,
   "metadata": {
    "collapsed": false
   },
   "outputs": [
    {
     "data": {
      "text/plain": [
       "MultinomialNB(alpha=1.0, class_prior=None, fit_prior=True)"
      ]
     },
     "execution_count": 59,
     "metadata": {},
     "output_type": "execute_result"
    }
   ],
   "source": [
    "# train a Naive Bayes model using train_dtm\n",
    "from sklearn.naive_bayes import MultinomialNB\n",
    "nb = MultinomialNB()\n",
    "nb.fit(train_dtm, y_train)"
   ]
  },
  {
   "cell_type": "code",
   "execution_count": 60,
   "metadata": {
    "collapsed": false
   },
   "outputs": [
    {
     "data": {
      "text/plain": [
       "array([0, 0, 0, ..., 0, 0, 0], dtype=int64)"
      ]
     },
     "execution_count": 60,
     "metadata": {},
     "output_type": "execute_result"
    }
   ],
   "source": [
    "# make predictions on test data using test_dtm\n",
    "preds = nb.predict(test_dtm)\n",
    "preds"
   ]
  },
  {
   "cell_type": "code",
   "execution_count": 61,
   "metadata": {
    "collapsed": false
   },
   "outputs": [
    {
     "name": "stdout",
     "output_type": "stream",
     "text": [
      "0.877243359655\n",
      "[[1204    4]\n",
      " [ 167   18]]\n"
     ]
    }
   ],
   "source": [
    "# compare predictions to true labels\n",
    "from sklearn import metrics\n",
    "print metrics.accuracy_score(y_test, preds)\n",
    "print metrics.confusion_matrix(y_test, preds)\n",
    "# confusion matrix: http://en.wikipedia.org/wiki/Confusion_matrix"
   ]
  },
  {
   "cell_type": "code",
   "execution_count": 62,
   "metadata": {
    "collapsed": false
   },
   "outputs": [
    {
     "data": {
      "text/plain": [
       "array(['You call him now ok i said call him', \"I'm at home. Please call\",\n",
       "       \"I'm at work. Please call\",\n",
       "       \"Hi. I'm sorry i missed your call. Can you pls call back.\"], dtype=object)"
      ]
     },
     "execution_count": 62,
     "metadata": {},
     "output_type": "execute_result"
    }
   ],
   "source": [
    "# exercise: show the message text for the false positives\n",
    "X_test[(y_test == 0) & (preds == 1)]"
   ]
  },
  {
   "cell_type": "code",
   "execution_count": 63,
   "metadata": {
    "collapsed": false
   },
   "outputs": [
    {
     "data": {
      "text/plain": [
       "array([ \"FreeMsg Why haven't you replied to my text? I'm Randy, sexy, female and live local. Luv to hear from u. Netcollex Ltd 08700621170150p per msg reply Stop to end\",\n",
       "       'Congrats! 2 mobile 3G Videophones R yours. call 09061744553 now! videochat wid ur mates, play java games, Dload polyH music, noline rentl. bx420. ip4. 5we. 150pm',\n",
       "       'FREE MESSAGE Activate your 500 FREE Text Messages by replying to this message with the word FREE For terms & conditions, visit www.07781482378.com',\n",
       "       'Someone has conacted our dating service and entered your phone because they fancy you!To find out who it is call from landline 09111030116. PoBox12n146tf15',\n",
       "       \"ree entry in 2 a weekly comp for a chance to win an ipod. Txt POD to 80182 to get entry (std txt rate) T&C's apply 08452810073 for details 18+\",\n",
       "       'Ur cash-balance is currently 500 pounds - to maximize ur cash-in now send GO to 86688 only 150p/msg. CC 08718720201 HG/Suite342/2Lands Row/W1J6HL',\n",
       "       'This is the 2nd time we have tried 2 contact u. U have won the \\xe5\\xa3750 Pound prize. 2 claim is easy, call 087187272008 NOW1! Only 10p per minute. BT-national-rate.',\n",
       "       'Final Chance! Claim ur \\xe5\\xa3150 worth of discount vouchers today! Text YES to 85023 now! SavaMob, member offers mobile! T Cs SavaMob POBOX84, M263UZ. \\xe5\\xa33.00 Subs 16',\n",
       "       'URGENT! We are trying to contact you. Last weekends draw shows that you have won a \\xe5\\xa3900 prize GUARANTEED. Call 09061701851. Claim code K61. Valid 12hours only',\n",
       "       'We have new local dates in your area - Lots of new people registered in YOUR AREA. Reply DATE to start now! 18 only www.flirtparty.us REPLYS150',\n",
       "       'You can stop further club tones by replying \"STOP MIX\" See my-tone.com/enjoy. html for terms. Club tones cost GBP4.50/week. MFL, PO Box 1146 MK45 2WT (2/3)',\n",
       "       'Welcome to UK-mobile-date this msg is FREE giving you free calling to 08719839835. Future mgs billed at 150p daily. To cancel send \"go stop\" to 89123',\n",
       "       'Call FREEPHONE 0800 542 0578 now!',\n",
       "       'Well done ENGLAND! Get the official poly ringtone or colour flag on yer mobile! text TONE or FLAG to 84199 NOW! Opt-out txt ENG STOP. Box39822 W111WX \\xe5\\xa31.50',\n",
       "       'New Tones This week include: 1)McFly-All Ab.., 2) Sara Jorge-Shock.. 3) Will Smith-Switch.. To order follow instructions on next message',\n",
       "       'Someone U know has asked our dating service 2 contact you! Cant guess who? CALL 09058095107 NOW all will be revealed. POBox 7, S3XY 150p ',\n",
       "       'We tried to contact you re your reply to our offer of a Video Handset? 750 anytime networks mins? UNLIMITED TEXT? Camcorder? Reply or call 08000930705 NOW',\n",
       "       'REMINDER FROM O2: To get 2.50 pounds free call credit and details of great offers pls reply 2 this text with your valid name, house no and postcode',\n",
       "       'Urgent Ur \\xe5\\xa3500 guaranteed award is still unclaimed! Call 09066368327 NOW closingdate04/09/02 claimcode M39M51 \\xe5\\xa31.50pmmorefrommobile2Bremoved-MobyPOBox734LS27YF',\n",
       "       'Claim a 200 shopping spree, just call 08717895698 now! Have you won! MobStoreQuiz10ppm',\n",
       "       'URGENT! This is the 2nd attempt to contact U!U have WON \\xe5\\xa31000CALL 09071512432 b4 300603t&csBCM4235WC1N3XX.callcost150ppmmobilesvary. max\\xe5\\xa37. 50',\n",
       "       'Reminder: You have not downloaded the content you have already paid for. Goto http://doit. mymoby. tv/ to collect your content.',\n",
       "       '* FREE* POLYPHONIC RINGTONE Text SUPER to 87131 to get your FREE POLY TONE of the week now! 16 SN PoBox202 NR31 7ZS subscription 450pw',\n",
       "       'Ur TONEXS subscription has been renewed and you have been charged \\xe5\\xa34.50. You can choose 10 more polys this month. www.clubzed.co.uk *BILLING MSG*',\n",
       "       \"LookAtMe!: Thanks for your purchase of a video clip from LookAtMe!, you've been charged 35p. Think you can do better? Why not send a video in a MMSto 32323.\",\n",
       "       '74355 XMAS iscoming & ur awarded either \\xe5\\xa3500 CD gift vouchers & free entry 2 r \\xe5\\xa3100 weekly draw txt MUSIC to 87066 TnC',\n",
       "       'Congratulations ur awarded 500 of CD vouchers or 125gift guaranteed & Free entry 2 100 wkly draw txt MUSIC to 87066 TnCs www.Ldew.com1win150ppmx3age16',\n",
       "       \"For ur chance to win \\xe5\\xa3250 cash every wk TXT: PLAY to 83370. T's&C's www.music-trivia.net custcare 08715705022, 1x150p/wk.\",\n",
       "       'Sunshine Quiz Wkly Q! Win a top Sony DVD player if u know which country the Algarve is in? Txt ansr to 82277. \\xe5\\xa31.50 SP:Tyrone',\n",
       "       'URGENT! Your mobile was awarded a \\xe5\\xa31,500 Bonus Caller Prize on 27/6/03. Our final attempt 2 contact U! Call 08714714011',\n",
       "       'You have been specially selected to receive a 2000 pound award! Call 08712402050 BEFORE the lines close. Cost 10ppm. 16+. T&Cs apply. AG Promo',\n",
       "       'Natalja (25/F) is inviting you to be her friend. Reply YES-440 or NO-440 See her: www.SMS.ac/u/nat27081980 STOP? Send STOP FRND to 62468',\n",
       "       'URGENT! Your mobile number *************** WON a \\xe5\\xa32000 Bonus Caller prize on 10/06/03! This is the 2nd attempt to reach you! Call 09066368753 ASAP! Box 97N7QP, 150ppm',\n",
       "       'Send a logo 2 ur lover - 2 names joined by a heart. Txt LOVE NAME1 NAME2 MOBNO eg LOVE ADAM EVE 07123456789 to 87077 Yahoo! POBox36504W45WQ TxtNO 4 no ads 150p',\n",
       "       'URGENT!! Your 4* Costa Del Sol Holiday or \\xe5\\xa35000 await collection. Call 09050090044 Now toClaim. SAE, TC s, POBox334, Stockport, SK38xh, Cost\\xe5\\xa31.50/pm, Max10mins',\n",
       "       '500 New Mobiles from 2004, MUST GO! Txt: NOKIA to No: 89545 & collect yours today!From ONLY \\xe5\\xa31 www.4-tc.biz 2optout 087187262701.50gbp/mtmsg18 TXTAUCTION',\n",
       "       'Great NEW Offer - DOUBLE Mins & DOUBLE Txt on best Orange tariffs AND get latest camera phones 4 FREE! Call MobileUpd8 free on 08000839402 NOW! or 2stoptxt T&Cs',\n",
       "       'EASTENDERS TV Quiz. What FLOWER does DOT compare herself to? D= VIOLET E= TULIP F= LILY txt D E or F to 84025 NOW 4 chance 2 WIN \\xe5\\xa3100 Cash WKENT/150P16+',\n",
       "       'Do you want a New Nokia 3510i Colour Phone Delivered Tomorrow? With 200 FREE minutes to any mobile + 100 FREE text + FREE camcorder Reply or Call 08000930705',\n",
       "       'No. 1 Nokia Tone 4 ur mob every week! Just txt NOK to 87021. 1st Tone FREE ! so get txtin now and tell ur friends. 150p/tone. 16 reply HL 4info',\n",
       "       'Get the official ENGLAND poly ringtone or colour flag on yer mobile for tonights game! Text TONE or FLAG to 84199. Optout txt ENG STOP Box39822 W111WX \\xe5\\xa31.50',\n",
       "       'Do you want 750 anytime any network mins 150 text and a NEW video phone for only five pounds per week call 08000776320 now or reply for delivery Tomorrow',\n",
       "       'U have won a nokia 6230 plus a free digital camera. This is what u get when u win our FREE auction. To take part send NOKIA to 83383 now. POBOX114/14TCR/W1 16',\n",
       "       'Urgent UR awarded a complimentary trip to EuroDisinc Trav, Aco&Entry41 Or \\xe5\\xa31000. To claim txt DIS to 87121 18+6*\\xe5\\xa31.50(moreFrmMob. ShrAcomOrSglSuplt)10, LS1 3AJ',\n",
       "       'We know someone who you know that fancies you. Call 09058097218 to find out who. POBox 6, LS15HB 150p',\n",
       "       'Your 2004 account for 07XXXXXXXXX shows 786 unredeemed points. To claim call 08719181259 Identifier code: XXXXX Expires 26.03.05',\n",
       "       \"important information 4 orange user . today is your lucky day!2find out why log onto http://www.urawinner.com THERE'S A FANTASTIC SURPRISE AWAITING YOU!\",\n",
       "       'Dear Voucher holder Have your next meal on us. Use the following link on your pc 2 enjoy a 2 4 1 dining experiencehttp://www.vouch4me.com/etlp/dining.asp',\n",
       "       'Free tones Hope you enjoyed your new content. text stop to 61610 to unsubscribe. help:08712400602450p Provided by tones2you.co.uk',\n",
       "       'Save money on wedding lingerie at www.bridal.petticoatdreams.co.uk Choose from a superb selection with national delivery. Brought to you by WeddingFriend',\n",
       "       'URGENT!! Your 4* Costa Del Sol Holiday or \\xe5\\xa35000 await collection. Call 09050090044 Now toClaim. SAE, TC s, POBox334, Stockport, SK38xh, Cost\\xe5\\xa31.50/pm, Max10mins',\n",
       "       'No 1 POLYPHONIC tone 4 ur mob every week! Just txt PT2 to 87575. 1st Tone FREE ! so get txtin now and tell ur friends. 150p/tone. 16 reply HL 4info',\n",
       "       'PRIVATE! Your 2003 Account Statement for <fone no> shows 800 un-redeemed S. I. M. points. Call 08715203656 Identifier Code: 42049 Expires 26/10/04',\n",
       "       'Latest Nokia Mobile or iPOD MP3 Player +\\xe5\\xa3400 proze GUARANTEED! Reply with: WIN to 83355 now! Norcorp Ltd.\\xe5\\xa31,50/Mtmsgrcvd18+',\n",
       "       'Ringtone Club: Gr8 new polys direct to your mobile every week !',\n",
       "       '3 FREE TAROT TEXTS! Find out about your love life now! TRY 3 FOR FREE! Text CHANCE to 85555 16 only! After 3 Free, Msgs \\xe5\\xa31.50 each',\n",
       "       'U 447801259231 have a secret admirer who is looking 2 make contact with U-find out who they R*reveal who thinks UR so special-call on 09058094597',\n",
       "       'How about getting in touch with folks waiting for company? Just txt back your NAME and AGE to opt in! Enjoy the community (150p/SMS)',\n",
       "       'URGENT! Your mobile No *********** WON a \\xe5\\xa32,000 Bonus Caller Prize on 02/06/03! This is the 2nd attempt to reach YOU! Call 09066362220 ASAP! BOX97N7QP, 150ppm',\n",
       "       'SIX chances to win CASH! From 100 to 20,000 pounds txt> CSH11 and send to 87575. Cost 150p/day, 6days, 16+ TsandCs apply Reply HL 4 info',\n",
       "       'You are a \\xe5\\xa31000 winner or Guaranteed Caller Prize, this is our Final attempt to contact you! To Claim Call 09071517866 Now! 150ppmPOBox10183BhamB64XE',\n",
       "       \"FreeMsg Hey there darling it's been 3 week's now and no word back! I'd like some fun you up for it still? Tb ok! XxX std chgs to send, \\xe5\\xa31.50 to rcv\",\n",
       "       'You are a winner U have been specially selected 2 receive \\xe5\\xa31000 cash or a 4* holiday (flights inc) speak to a live operator 2 claim 0871277810810',\n",
       "       'Free msg: Single? Find a partner in your area! 1000s of real people are waiting to chat now!Send CHAT to 62220Cncl send STOPCS 08717890890\\xe5\\xa31.50 per msg',\n",
       "       \"Xmas & New Years Eve tickets are now on sale from the club, during the day from 10am till 8pm, and on Thurs, Fri & Sat night this week. They're selling fast!\",\n",
       "       'Hi there, 2nights ur lucky night! Uve been invited 2 XCHAT, the Uks wildest chat! Txt CHAT to 86688 now! 150p/MsgrcvdHG/Suite342/2Lands/Row/W1J6HL LDN 18yrs',\n",
       "       'Boltblue tones for 150p Reply POLY# or MONO# eg POLY3 1. Cha Cha Slide 2. Yeah 3. Slow Jamz 6. Toxic 8. Come With Me or STOP 4 more tones txt MORE',\n",
       "       \"Hi I'm sue. I am 20 years old and work as a lapdancer. I love sex. Text me live - I'm i my bedroom now. text SUE to 89555. By TextOperator G2 1DA 150ppmsg 18+\",\n",
       "       'You are a winner you have been specially selected to receive \\xe5\\xa31000 cash or a \\xe5\\xa32000 award. Speak to a live operator to claim call 087147123779am-7pm. Cost 10p',\n",
       "       'Had your mobile 10 mths? Update to the latest Camera/Video phones for FREE. KEEP UR SAME NUMBER, Get extra free mins/texts. Text YES for a call',\n",
       "       'Update_Now - Xmas Offer! Latest Motorola, SonyEricsson & Nokia & FREE Bluetooth! Double Mins & 1000 Txt on Orange. Call MobileUpd8 on 08000839402 or call2optout/F4Q=',\n",
       "       'Promotion Number: 8714714 - UR awarded a City Break and could WIN a \\xe5\\xa3200 Summer Shopping spree every WK. Txt STORE to 88039 . SkilGme. TsCs087147403231Winawk!Age16 \\xe5\\xa31.50perWKsub',\n",
       "       'URGENT! Your Mobile number has been awarded with a \\xe5\\xa32000 Bonus Caller Prize. Call 09058095201 from land line. Valid 12hrs only',\n",
       "       'Loans for any purpose even if you have Bad Credit! Tenants Welcome. Call NoWorriesLoans.com on 08717111821',\n",
       "       'Knock Knock Txt whose there to 80082 to enter r weekly draw 4 a \\xe5\\xa3250 gift voucher 4 a store of yr choice. T&Cs www.tkls.com age16 to stoptxtstop\\xe5\\xa31.50/week',\n",
       "       'Would you like to see my XXX pics they are so hot they were nearly banned in the uk!',\n",
       "       'Had your mobile 11mths ? Update for FREE to Oranges latest colour camera mobiles & unlimited weekend calls. Call Mobile Upd8 on freefone 08000839402 or 2StopTx',\n",
       "       'FREE UNLIMITED HARDCORE PORN direct 2 your mobile Txt PORN to 69200 & get FREE access for 24 hrs then chrgd@50p per day txt Stop 2exit. This msg is free',\n",
       "       'FreeMsg: Fancy a flirt? Reply DATE now & join the UKs fastest growing mobile dating service. Msgs rcvd just 25p to optout txt stop to 83021. Reply DATE now!',\n",
       "       'Fancy a shag? I do.Interested? sextextuk.com txt XXUK SUZY to 69876. Txts cost 1.50 per msg. TnCs on website. X',\n",
       "       'pdate_Now - Double mins and 1000 txts on Orange tariffs. Latest Motorola, SonyEricsson & Nokia & Bluetooth FREE! Call MobileUpd8 on 08000839402 or call2optout/!YHL',\n",
       "       'tddnewsletter@emc1.co.uk (More games from TheDailyDraw) Dear Helen, Dozens of Free Games - with great prizesWith..',\n",
       "       \"Ur balance is now \\xe5\\xa3500. Ur next question is: Who sang 'Uptown Girl' in the 80's ? 2 answer txt ur ANSWER to 83600. Good luck!\",\n",
       "       \"Today's Offer! Claim ur \\xe5\\xa3150 worth of discount vouchers! Text YES to 85023 now! SavaMob, member offers mobile! T Cs 08717898035. \\xe5\\xa33.00 Sub. 16 . Unsub reply X\",\n",
       "       'RT-KIng Pro Video Club>> Need help? info@ringtoneking.co.uk or call 08701237397 You must be 16+ Club credits redeemable at www.ringtoneking.co.uk! Enjoy!',\n",
       "       'Do you want a New Nokia 3510i colour phone DeliveredTomorrow? With 300 free minutes to any mobile + 100 free texts + Free Camcorder reply or call 08000930705.',\n",
       "       'Your unique user ID is 1172. For removal send STOP to 87239 customer services 08708034412',\n",
       "       'Sunshine Hols. To claim ur med holiday send a stamped self address envelope to Drinks on Us UK, PO Box 113, Bray, Wicklow, Eire. Quiz Starts Saturday! Unsub Stop',\n",
       "       'Last chance 2 claim ur \\xe5\\xa3150 worth of discount vouchers-Text YES to 85023 now!SavaMob-member offers mobile T Cs 08717898035. \\xe5\\xa33.00 Sub. 16 . Remove txt X or STOP',\n",
       "       'We tried to contact you re our offer of New Video Phone 750 anytime any network mins HALF PRICE Rental camcorder call 08000930705 or reply for delivery Wed',\n",
       "       'Someone U know has asked our dating service 2 contact you! Cant Guess who? CALL 09058097189 NOW all will be revealed. POBox 6, LS15HB 150p ',\n",
       "       'IMPORTANT MESSAGE. This is a final contact attempt. You have important messages waiting out our customer claims dept. Expires 13/4/04. Call 08717507382 NOW!',\n",
       "       'Bloomberg -Message center +447797706009 Why wait? Apply for your future http://careers. bloomberg.com',\n",
       "       '+449071512431 URGENT! This is the 2nd attempt to contact U!U have WON \\xe5\\xa31250 CALL 09071512433 b4 050703 T&CsBCM4235WC1N3XX. callcost 150ppm mobilesvary. max\\xe5\\xa37. 50',\n",
       "       'Want the latest Video handset? 750 anytime any network mins? Half price line rental? Reply or call 08000930705 for delivery tomorrow',\n",
       "       '83039 62735=\\xe5\\xa3450 UK Break AccommodationVouchers terms & conditions apply. 2 claim you mustprovide your claim number which is 15541 ',\n",
       "       \"Hard LIVE 121 chat just 60p/min. Choose your girl and connect LIVE. Call 09094646899 now! Cheap Chat UK's biggest live service. VU BCM1896WC1N3XX\",\n",
       "       'What do U want for Xmas? How about 100 free text messages & a new video phone with half price line rental? Call free now on 0800 0721072 to find out more!',\n",
       "       'CALL 09090900040 & LISTEN TO EXTREME DIRTY LIVE CHAT GOING ON IN THE OFFICE RIGHT NOW TOTAL PRIVACY NO ONE KNOWS YOUR [sic] LISTENING 60P MIN 24/7MP 0870753331018+',\n",
       "       'thesmszone.com lets you send free anonymous and masked messages..im sending this message from there..do you see the potential for abuse???',\n",
       "       'Hi, this is Mandy Sullivan calling from HOTMIX FM...you are chosen to receive \\xe5\\xa35000.00 in our Easter Prize draw.....Please telephone 09041940223 to claim before 29/03/05 or your prize will be transferred to someone else....',\n",
       "       'Ur cash-balance is currently 500 pounds - to maximize ur cash-in now send CASH to 86688 only 150p/msg. CC: 08718720201 PO BOX 114/14 TCR/W1',\n",
       "       'RECPT 1/3. You have ordered a Ringtone. Your order is being processed...',\n",
       "       'Our brand new mobile music service is now live. The free music player will arrive shortly. Just install on your phone to browse content from the top artists.',\n",
       "       'URGENT This is our 2nd attempt to contact U. Your \\xe5\\xa3900 prize from YESTERDAY is still awaiting collection. To claim CALL NOW 09061702893',\n",
       "       '1st wk FREE! Gr8 tones str8 2 u each wk. Txt NOKIA ON to 8007 for Classic Nokia tones or HIT ON to 8007 for Polys. Nokia/150p Poly/200p 16+',\n",
       "       'December only! Had your mobile 11mths+? You are entitled to update to the latest colour camera mobile for Free! Call The Mobile Update VCo FREE on 08002986906 ',\n",
       "       'Hi this is Amy, we will be sending you a free phone number in a couple of days, which will give you an access to all the adult parties...',\n",
       "       'PRIVATE! Your 2004 Account Statement for 078498****7 shows 786 unredeemed Bonus Points. To claim call 08719180219 Identifier Code: 45239 Expires 06.05.05',\n",
       "       \"Dear U've been invited to XCHAT. This is our final attempt to contact u! Txt CHAT to 86688\",\n",
       "       'Got what it takes 2 take part in the WRC Rally in Oz? U can with Lucozade Energy! Text RALLY LE to 61200 (25p), see packs or lucozade.co.uk/wrc & itcould be u!',\n",
       "       'Summers finally here! Fancy a chat or flirt with sexy singles in yr area? To get MATCHED up just reply SUMMER now. Free 2 Join. OptOut txt STOP Help08714742804',\n",
       "       'Our records indicate u maybe entitled to 5000 pounds in compensation for the Accident you had. To claim 4 free reply with CLAIM to this msg. 2 stop txt STOP',\n",
       "       'Romantic Paris. 2 nights, 2 flights from \\xe5\\xa379 Book now 4 next year. Call 08704439680Ts&Cs apply.',\n",
       "       '(Bank of Granite issues Strong-Buy) EXPLOSIVE PICK FOR OUR MEMBERS *****UP OVER 300% *********** Nasdaq Symbol CDGT That is a $5.00 per..',\n",
       "       '18 days to Euro2004 kickoff! U will be kept informed of all the latest news and results daily. Unsubscribe send GET EURO STOP to 83222.',\n",
       "       'Ur cash-balance is currently 500 pounds - to maximize ur cash-in now send COLLECT to 83600 only 150p/msg. CC: 08718720201 PO BOX 114/14 TCR/W1',\n",
       "       'URGENT! Your mobile No 077xxx WON a \\xe5\\xa32,000 Bonus Caller Prize on 02/06/03! This is the 2nd attempt to reach YOU! Call 09066362206 ASAP! BOX97N7QP, 150ppm',\n",
       "       'Free entry to the gr8prizes wkly comp 4 a chance to win the latest Nokia 8800, PSP or \\xe5\\xa3250 cash every wk.TXT GREAT to 80878 http//www.gr8prizes.com 08715705022',\n",
       "       'XMAS iscoming & ur awarded either \\xe5\\xa3500 CD gift vouchers & free entry 2 r \\xe5\\xa3100 weekly draw txt MUSIC to 87066 TnC www.Ldew.com1win150ppmx3age16subscription ',\n",
       "       'URGENT! You have won a 1 week FREE membership in our \\xe5\\xa3100,000 Prize Jackpot! Txt the word: CLAIM to No: 81010 T&C www.dbuk.net LCCLTD POBOX 4403LDNW1A7RW18',\n",
       "       'You are being ripped off! Get your mobile content from www.clubmoby.com call 08717509990 poly/true/Pix/Ringtones/Games six downloads for only 3',\n",
       "       'You are being contacted by our Dating Service by someone you know! To find out who it is, call from your mobile or landline 09064017305 PoBox75LDNS7 ',\n",
       "       'BangBabes Ur order is on the way. U SHOULD receive a Service Msg 2 download UR content. If U do not, GoTo wap. bangb. tv on UR mobile internet/service menu',\n",
       "       'SIX chances to win CASH! From 100 to 20,000 pounds txt> CSH11 and send to 87575. Cost 150p/day, 6days, 16+ TsandCs apply Reply HL 4 info',\n",
       "       'Free Top ringtone -sub to weekly ringtone-get 1st week free-send SUBPOLY to 81618-?3 per week-stop sms-08718727870',\n",
       "       'U are subscribed to the best Mobile Content Service in the UK for \\xe5\\xa33 per ten days until you send STOP to 83435. Helpline 08706091795.',\n",
       "       'our mobile number has won \\xe5\\xa35000, to claim calls us back or ring the claims hot line on 09050005321.',\n",
       "       'England v Macedonia - dont miss the goals/team news. Txt ur national team to 87077 eg ENGLAND to 87077 Try:WALES, SCOTLAND 4txt/\\xcc\\xbc1.20 POBOXox36504W45WQ 16+',\n",
       "       \"I don't know u and u don't know me. Send CHAT to 86688 now and let's find each other! Only 150p/Msg rcvd. HG/Suite342/2Lands/Row/W1J6HL LDN. 18 years or over.\",\n",
       "       'New Mobiles from 2004, MUST GO! Txt: NOKIA to No: 89545 & collect yours today! From ONLY \\xe5\\xa31. www.4-tc.biz 2optout 087187262701.50gbp/mtmsg18 TXTAUCTION.',\n",
       "       \"Free entry in 2 a wkly comp to win FA Cup final tkts 21st May 2005. Text FA to 87121 to receive entry question(std txt rate)T&C's apply 08452810075over18's\",\n",
       "       'Camera - You are awarded a SiPix Digital Camera! call 09061221066 fromm landline. Delivery within 28 days.',\n",
       "       \"500 free text msgs. Just text ok to 80488 and we'll credit your account\",\n",
       "       'YOU HAVE WON! As a valued Vodafone customer our computer has picked YOU to win a \\xe5\\xa3150 prize. To collect is easy. Just call 09061743386 ',\n",
       "       'Auction round 4. The highest bid is now \\xe5\\xa354. Next maximum bid is \\xe5\\xa371. To bid, send BIDS e. g. 10 (to bid \\xe5\\xa310) to 83383. Good luck.',\n",
       "       'Bored housewives! Chat n date now! 0871750.77.11! BT-national rate 10p/min only from landlines!',\n",
       "       \"INTERFLORA - \\xe5\\xd2It's not too late to order Interflora flowers for christmas call 0800 505060 to place your order before Midnight tomorrow.\",\n",
       "       'SMSSERVICES. for yourinclusive text credits, pls goto www.comuk.net login= 3qxj9 unsubscribe with STOP, no extra charge. help 08702840625.COMUK. 220-CM2 9AE',\n",
       "       'Congratulations ur awarded 500 of CD vouchers or 125gift guaranteed & Free entry 2 100 wkly draw txt MUSIC to 87066',\n",
       "       'Adult 18 Content Your video will be with you shortly',\n",
       "       \"Free entry in 2 a weekly comp for a chance to win an ipod. Txt POD to 80182 to get entry (std txt rate) T&C's apply 08452810073 for details 18+\",\n",
       "       'For taking part in our mobile survey yesterday! You can now have 500 texts 2 use however you wish. 2 get txts just send TXT to 80160 T&C www.txt43.com 1.50p',\n",
       "       'WIN: We have a winner! Mr. T. Foley won an iPod! More exciting prizes soon, so keep an eye on ur mobile or visit www.win-82050.co.uk',\n",
       "       'WOW! The Boys R Back. TAKE THAT 2007 UK Tour. Win VIP Tickets & pre-book with VIP Club. Txt CLUB to 81303. Trackmarque Ltd info@vipclub4u.',\n",
       "       \"2p per min to call Germany 08448350055 from your BT line. Just 2p per min. Check PlanetTalkInstant.com for info & T's & C's. Text stop to opt out\",\n",
       "       'You have won a guaranteed \\xe5\\xa3200 award or even \\xe5\\xa31000 cashto claim UR award call free on 08000407165 (18+) 2 stop getstop on 88222 PHP. RG21 4JX',\n",
       "       'PRIVATE! Your 2003 Account Statement for 07753741225 shows 800 un-redeemed S. I. M. points. Call 08715203677 Identifier Code: 42478 Expires 24/10/04',\n",
       "       \"You won't believe it but it's true. It's Incredible Txts! Reply G now to learn truly amazing things that will blow your mind. From O2FWD only 18p/txt\",\n",
       "       'Ur cash-balance is currently 500 pounds - to maximize ur cash-in now send CASH to 86688 only 150p/msg. CC: 08708800282 HG/Suite342/2Lands Row/W1J6HL',\n",
       "       'FREE for 1st week! No1 Nokia tone 4 ur mobile every week just txt NOKIA to 8077 Get txting and tell ur mates. www.getzed.co.uk POBox 36504 W45WQ 16+ norm150p/tone',\n",
       "       'WELL DONE! Your 4* Costa Del Sol Holiday or \\xe5\\xa35000 await collection. Call 09050090044 Now toClaim. SAE, TCs, POBox334, Stockport, SK38xh, Cost\\xe5\\xa31.50/pm, Max10mins',\n",
       "       'it to 80488. Your 500 free text messages are valid until 31 December 2005.',\n",
       "       'Are you unique enough? Find out from 30th August. www.areyouunique.co.uk',\n",
       "       'Double your mins & txts on Orange or 1/2 price linerental - Motorola and SonyEricsson with B/Tooth FREE-Nokia FREE Call MobileUpd8 on 08000839402 or2optout/HV9D',\n",
       "       \"Hi ya babe x u 4goten bout me?' scammers getting smart..Though this is a regular vodafone no, if you respond you get further prem rate msg/subscription. Other nos used also. Beware!\",\n",
       "       '**FREE MESSAGE**Thanks for using the Auction Subscription Service. 18 . 150p/MSGRCVD 2 Skip an Auction txt OUT. 2 Unsubscribe txt STOP CustomerCare 08718726270',\n",
       "       'okmail: Dear Dave this is your final notice to collect your 4* Tenerife Holiday or #5000 CASH award! Call 09061743806 from landline. TCs SAE Box326 CW25WX 150ppm',\n",
       "       'HMV BONUS SPECIAL 500 pounds of genuine HMV vouchers to be won. Just answer 4 easy questions. Play Now! Send HMV to 86688 More info:www.100percent-real.com',\n",
       "       'Valentines Day Special! Win over \\xe5\\xa31000 in our quiz and take your partner on the trip of a lifetime! Send GO to 83600 now. 150p/msg rcvd. CustCare:08718720201.',\n",
       "       'Money i have won wining number 946 wot do i do next',\n",
       "       '5 Free Top Polyphonic Tones call 087018728737, National Rate. Get a toppoly tune sent every week, just text SUBPOLY to 81618, \\xe5\\xa33 per pole. UnSub 08718727870.',\n",
       "       'SMS AUCTION - A BRAND NEW Nokia 7250 is up 4 auction today! Auction is FREE 2 join & take part! Txt NOKIA to 86021 now!',\n",
       "       'Guess what! Somebody you know secretly fancies you! Wanna find out who it is? Give us a call on 09065394973 from Landline DATEBox1282EssexCM61XN 150p/min 18',\n",
       "       \"Hard LIVE 121 chat just 60p/min. Choose your girl and connect LIVE. Call 09094646899 now! Cheap Chat UK's biggest live service. VU BCM1896WC1N3XX\",\n",
       "       '09066362231 URGENT! Your mobile No 07xxxxxxxxx won a \\xe5\\xa32,000 bonus caller prize on 02/06/03! this is the 2nd attempt to reach YOU! call 09066362231 ASAP!',\n",
       "       'WIN: We have a winner! Mr. T. Foley won an iPod! More exciting prizes soon, so keep an eye on ur mobile or visit www.win-82050.co.uk'], dtype=object)"
      ]
     },
     "execution_count": 63,
     "metadata": {},
     "output_type": "execute_result"
    }
   ],
   "source": [
    "# exercise: show the message text for the false negatives\n",
    "X_test[y_test > preds]\n",
    "# or\n",
    "X_test[(y_test == 1) & (preds == 0)]"
   ]
  },
  {
   "cell_type": "code",
   "execution_count": null,
   "metadata": {
    "collapsed": false
   },
   "outputs": [],
   "source": [
    "## USING ALL DATA AND CROSS-VALIDATION and run NB again\n"
   ]
  },
  {
   "cell_type": "code",
   "execution_count": null,
   "metadata": {
    "collapsed": false
   },
   "outputs": [],
   "source": [
    "## EXERCISE: CALCULATE THE 'SPAMMINESS' OF EACH TOKEN\n",
    "\n",
    "# create separate DataFrames for ham and spam ( df_ham and df_spam)\n"
   ]
  },
  {
   "cell_type": "code",
   "execution_count": null,
   "metadata": {
    "collapsed": false
   },
   "outputs": [],
   "source": [
    "# learn the vocabulary of ALL messages and save it\n"
   ]
  },
  {
   "cell_type": "code",
   "execution_count": null,
   "metadata": {
    "collapsed": false
   },
   "outputs": [],
   "source": [
    "# create document-term matrix of ham, then convert to a regular array\n"
   ]
  },
  {
   "cell_type": "code",
   "execution_count": null,
   "metadata": {
    "collapsed": false
   },
   "outputs": [],
   "source": [
    "# create document-term matrix of spam, then convert to a regular array\n"
   ]
  },
  {
   "cell_type": "code",
   "execution_count": null,
   "metadata": {
    "collapsed": false
   },
   "outputs": [],
   "source": [
    "# count how many times EACH token appears across ALL messages in ham_arr\n"
   ]
  },
  {
   "cell_type": "code",
   "execution_count": null,
   "metadata": {
    "collapsed": false
   },
   "outputs": [],
   "source": [
    "# count how many times EACH token appears across ALL messages in spam_arr\n"
   ]
  },
  {
   "cell_type": "code",
   "execution_count": null,
   "metadata": {
    "collapsed": false
   },
   "outputs": [],
   "source": [
    "# create a DataFrame of tokens with their separate ham and spam counts\n"
   ]
  },
  {
   "cell_type": "code",
   "execution_count": null,
   "metadata": {
    "collapsed": false
   },
   "outputs": [],
   "source": [
    "# add one to ham counts and spam counts so that ratio calculations (below) make more sensse\n"
   ]
  },
  {
   "cell_type": "code",
   "execution_count": null,
   "metadata": {
    "collapsed": false
   },
   "outputs": [],
   "source": [
    "# calculate ratio of spam-to-ham for each token\n"
   ]
  },
  {
   "cell_type": "code",
   "execution_count": null,
   "metadata": {
    "collapsed": false
   },
   "outputs": [],
   "source": [
    "# advanced: implement your own naive bayes classifier\n"
   ]
  }
 ],
 "metadata": {
  "kernelspec": {
   "display_name": "Python 2",
   "language": "python",
   "name": "python2"
  },
  "language_info": {
   "codemirror_mode": {
    "name": "ipython",
    "version": 2
   },
   "file_extension": ".py",
   "mimetype": "text/x-python",
   "name": "python",
   "nbconvert_exporter": "python",
   "pygments_lexer": "ipython2",
   "version": "2.7.9"
  }
 },
 "nbformat": 4,
 "nbformat_minor": 0
}
