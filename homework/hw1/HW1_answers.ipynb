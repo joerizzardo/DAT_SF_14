{
 "cells": [
  {
   "cell_type": "code",
   "execution_count": 2,
   "metadata": {
    "collapsed": false
   },
   "outputs": [
    {
     "name": "stdout",
     "output_type": "stream",
     "text": [
      "<class 'pandas.core.frame.DataFrame'>\n",
      "Int64Index: 891 entries, 0 to 890\n",
      "Data columns (total 12 columns):\n",
      "PassengerId    891 non-null int64\n",
      "Survived       891 non-null int64\n",
      "Pclass         891 non-null int64\n",
      "Name           891 non-null object\n",
      "Sex            891 non-null object\n",
      "Age            714 non-null float64\n",
      "SibSp          891 non-null int64\n",
      "Parch          891 non-null int64\n",
      "Ticket         891 non-null object\n",
      "Fare           891 non-null float64\n",
      "Cabin          204 non-null object\n",
      "Embarked       889 non-null object\n",
      "dtypes: float64(2), int64(5), object(5)\n",
      "memory usage: 90.5+ KB\n"
     ]
    }
   ],
   "source": [
    "# setup \n",
    "import pandas\n",
    "cols = ['PassengerId','Survived','Pclass','Name','Sex','Age','SibSp','Parch','Ticket','Fare','Cabin','Embarked']\n",
    "data = pandas.read_csv('C:/Users/cat/DAT_SF_14/homework/hw1/titanic.csv', header = False, names = cols)\n",
    "data.info()\n"
   ]
  },
  {
   "cell_type": "code",
   "execution_count": 29,
   "metadata": {
    "collapsed": false
   },
   "outputs": [
    {
     "data": {
      "text/plain": [
       "891"
      ]
     },
     "execution_count": 29,
     "metadata": {},
     "output_type": "execute_result"
    }
   ],
   "source": [
    "# 1: How many passengers are in our passenger list? \n",
    "len(data)"
   ]
  },
  {
   "cell_type": "code",
   "execution_count": 30,
   "metadata": {
    "collapsed": false
   },
   "outputs": [
    {
     "data": {
      "text/plain": [
       "'38.38%'"
      ]
     },
     "execution_count": 30,
     "metadata": {},
     "output_type": "execute_result"
    }
   ],
   "source": [
    "# 2: What is the overall survival rate?\n",
    "\"{0:.2f}%\".format(float(100) * len(data[data.Survived == 1]) / len(data))"
   ]
  },
  {
   "cell_type": "code",
   "execution_count": 18,
   "metadata": {
    "collapsed": false,
    "scrolled": true
   },
   "outputs": [
    {
     "data": {
      "text/plain": [
       "577"
      ]
     },
     "execution_count": 18,
     "metadata": {},
     "output_type": "execute_result"
    }
   ],
   "source": [
    "# 3: How many male passengers were onboard?\n",
    "len(data[data.Sex == 'male'])"
   ]
  },
  {
   "cell_type": "code",
   "execution_count": 19,
   "metadata": {
    "collapsed": false
   },
   "outputs": [
    {
     "data": {
      "text/plain": [
       "314"
      ]
     },
     "execution_count": 19,
     "metadata": {},
     "output_type": "execute_result"
    }
   ],
   "source": [
    "# 4: How many female passengers were onboard?\n",
    "len(data[data.Sex == 'female'])"
   ]
  },
  {
   "cell_type": "code",
   "execution_count": 20,
   "metadata": {
    "collapsed": false
   },
   "outputs": [
    {
     "data": {
      "text/plain": [
       "'18.89%'"
      ]
     },
     "execution_count": 20,
     "metadata": {},
     "output_type": "execute_result"
    }
   ],
   "source": [
    "# 5: What is the overall survival rate of male passengers?\n",
    "\"{0:.2f}%\".format(float(100) * len(data[(data.Survived == 1) & (data.Sex == 'male')]) / len(data[data.Sex == 'male']))"
   ]
  },
  {
   "cell_type": "code",
   "execution_count": 21,
   "metadata": {
    "collapsed": false
   },
   "outputs": [
    {
     "data": {
      "text/plain": [
       "'74.20%'"
      ]
     },
     "execution_count": 21,
     "metadata": {},
     "output_type": "execute_result"
    }
   ],
   "source": [
    "# 6: What is the overall survival rate of female passengers?\n",
    "\"{0:.2f}%\".format(float(100) * len(data[(data.Survived == 1) & (data.Sex == 'female')]) / len(data[data.Sex == 'female']))"
   ]
  },
  {
   "cell_type": "code",
   "execution_count": 32,
   "metadata": {
    "collapsed": false
   },
   "outputs": [
    {
     "data": {
      "text/plain": [
       "29.7"
      ]
     },
     "execution_count": 32,
     "metadata": {},
     "output_type": "execute_result"
    }
   ],
   "source": [
    "# 7: What is the average age of all passengers onboard?\n",
    "\n",
    "# How did you calculate this average age? Note that some of the passengers do not have an age value. How did you deal with this?\n",
    "age_no_nulls = data[data.Age.notnull()]  # nulls ignored when calculating average age\n",
    "round(age_no_nulls.Age.mean(),2)\n",
    "\n",
    "# What are some other ways of dealing with this?\n",
    "# I could assign the average age of all passengers to those whose age is null"
   ]
  },
  {
   "cell_type": "code",
   "execution_count": 24,
   "metadata": {
    "collapsed": false
   },
   "outputs": [
    {
     "data": {
      "text/plain": [
       "28.34"
      ]
     },
     "execution_count": 24,
     "metadata": {},
     "output_type": "execute_result"
    }
   ],
   "source": [
    "# 8: What is the average age of passengers who survived?\n",
    "round(age_no_nulls[(age_no_nulls.Survived == 1)].Age.mean(),2)"
   ]
  },
  {
   "cell_type": "code",
   "execution_count": 25,
   "metadata": {
    "collapsed": false
   },
   "outputs": [
    {
     "data": {
      "text/plain": [
       "30.63"
      ]
     },
     "execution_count": 25,
     "metadata": {},
     "output_type": "execute_result"
    }
   ],
   "source": [
    "# 9: What is the average age of passengers who did not survive?\n",
    "round(age_no_nulls[(age_no_nulls.Survived == 0)].Age.mean(),2)"
   ]
  },
  {
   "cell_type": "code",
   "execution_count": 13,
   "metadata": {
    "collapsed": true
   },
   "outputs": [],
   "source": [
    "# 10: At this (early) point in our analysis, what might you infer about any patterns you are seeing?\n",
    "\n",
    "# The female survival rate is much greater than the male survival rate.\n",
    "# Perhaps this because of the adage 'women and children first'?"
   ]
  },
  {
   "cell_type": "code",
   "execution_count": 26,
   "metadata": {
    "collapsed": false
   },
   "outputs": [
    {
     "data": {
      "text/plain": [
       "Pclass\n",
       "1         216\n",
       "2         184\n",
       "3         491\n",
       "Name: PassengerId, dtype: int64"
      ]
     },
     "execution_count": 26,
     "metadata": {},
     "output_type": "execute_result"
    }
   ],
   "source": [
    "# 11: How many passengers are in each of the three classes of service (e.g. First, Second, Third?)\n",
    "\n",
    "data.groupby(['Pclass']).PassengerId.count()"
   ]
  },
  {
   "cell_type": "code",
   "execution_count": 27,
   "metadata": {
    "collapsed": false
   },
   "outputs": [
    {
     "data": {
      "text/plain": [
       "'Class 1 = 62.96%, Class 2 = 47.28%, Class 3 = 24.24%'"
      ]
     },
     "execution_count": 27,
     "metadata": {},
     "output_type": "execute_result"
    }
   ],
   "source": [
    "# 12: What is the survival rate for passengers in each of the three classes of service?\n",
    "survive1 = \"Class 1 = {0:.2f}%\".format(float(100) * len(data[(data.Survived == 1) & (data.Pclass == 1)]) / len(data[data.Pclass == 1]))\n",
    "survive2 = \"Class 2 = {0:.2f}%\".format(float(100) * len(data[(data.Survived == 1) & (data.Pclass == 2)]) / len(data[data.Pclass == 2]))\n",
    "survive3 = \"Class 3 = {0:.2f}%\".format(float(100) * len(data[(data.Survived == 1) & (data.Pclass == 3)]) / len(data[data.Pclass == 3]))\n",
    "\n",
    "survive1 + \", \" + survive2 + \", \" + survive3"
   ]
  },
  {
   "cell_type": "code",
   "execution_count": 14,
   "metadata": {
    "collapsed": false
   },
   "outputs": [],
   "source": [
    "# 13: What else might you conclude?\n",
    "\n",
    "# I would conclude that those in first class were given preference when the ship was evacuated. \n",
    "# Third class was the lowest priority."
   ]
  },
  {
   "cell_type": "code",
   "execution_count": 31,
   "metadata": {
    "collapsed": true
   },
   "outputs": [],
   "source": [
    "# 14: Last, if we were to build a predictive model, which features in the data do you think we should include\n",
    "#     in the model and which can we leave out? Why?\n",
    "\n",
    "# Based on the data observed thus far, I would include the gender and class to determine the probablilty of \n",
    "# that passenger surviving. Ticket, fare, and name are irrelevant and could be omitted."
   ]
  },
  {
   "cell_type": "code",
   "execution_count": null,
   "metadata": {
    "collapsed": true
   },
   "outputs": [],
   "source": []
  }
 ],
 "metadata": {
  "kernelspec": {
   "display_name": "Python 2",
   "language": "python",
   "name": "python2"
  },
  "language_info": {
   "codemirror_mode": {
    "name": "ipython",
    "version": 2
   },
   "file_extension": ".py",
   "mimetype": "text/x-python",
   "name": "python",
   "nbconvert_exporter": "python",
   "pygments_lexer": "ipython2",
   "version": "2.7.9"
  }
 },
 "nbformat": 4,
 "nbformat_minor": 0
}
